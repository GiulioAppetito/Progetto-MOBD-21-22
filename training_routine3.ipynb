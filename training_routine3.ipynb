{
  "cells": [
    {
      "cell_type": "markdown",
      "metadata": {
        "id": "view-in-github",
        "colab_type": "text"
      },
      "source": [
        "<a href=\"https://colab.research.google.com/github/GiulioAppetito/Progetto_MOBD_2122/blob/main/training_routine3.ipynb\" target=\"_parent\"><img src=\"https://colab.research.google.com/assets/colab-badge.svg\" alt=\"Open In Colab\"/></a>"
      ]
    },
    {
      "cell_type": "code",
      "execution_count": 365,
      "metadata": {
        "colab": {
          "base_uri": "https://localhost:8080/"
        },
        "id": "Dn_vjC4iSuRW",
        "outputId": "cc6fa6da-a692-4bae-d8a7-f6659a8e70c9"
      },
      "outputs": [
        {
          "output_type": "stream",
          "name": "stdout",
          "text": [
            "Drive already mounted at /content/drive; to attempt to forcibly remount, call drive.mount(\"/content/drive\", force_remount=True).\n"
          ]
        }
      ],
      "source": [
        "from google.colab import drive\n",
        "drive.mount('/content/drive')"
      ]
    },
    {
      "cell_type": "code",
      "execution_count": 366,
      "metadata": {
        "colab": {
          "base_uri": "https://localhost:8080/"
        },
        "id": "fTRrYnQDTEMh",
        "outputId": "24658ce4-d29e-4e2e-d437-0e51dc355170"
      },
      "outputs": [
        {
          "output_type": "stream",
          "name": "stdout",
          "text": [
            "/content/drive/My Drive/ProgettoMOBD\n"
          ]
        }
      ],
      "source": [
        "%cd /content/drive/My\\ Drive/ProgettoMOBD"
      ]
    },
    {
      "cell_type": "code",
      "execution_count": 367,
      "metadata": {
        "id": "xsl9cpj0TdP-"
      },
      "outputs": [],
      "source": [
        "import sklearn\n",
        "import pandas as pd\n",
        "import numpy as np\n",
        "\n",
        "from numpy import array\n",
        "from sklearn.model_selection import train_test_split, GridSearchCV\n",
        "from sklearn.experimental import enable_iterative_imputer\n",
        "from sklearn_pandas import CategoricalImputer\n",
        "from sklearn.preprocessing import OneHotEncoder\n",
        "from sklearn.model_selection import KFold\n",
        "from sklearn.ensemble import IsolationForest, RandomForestClassifier, GradientBoostingClassifier, AdaBoostClassifier\n",
        "from sklearn.impute import SimpleImputer, IterativeImputer, KNNImputer\n",
        "from sklearn.preprocessing import StandardScaler, MinMaxScaler, MaxAbsScaler, RobustScaler\n",
        "from imblearn.under_sampling import RandomUnderSampler, ClusterCentroids\n",
        "from imblearn.over_sampling import SVMSMOTE\n",
        "from imblearn.over_sampling import ADASYN\n",
        "from imblearn.over_sampling import KMeansSMOTE\n",
        "from imblearn.over_sampling import RandomOverSampler, SMOTE\n",
        "from sklearn.tree import DecisionTreeClassifier,export_graphviz\n",
        "from sklearn import tree\n",
        "\n",
        "#serialization\n",
        "from joblib import dump\n",
        "from sklearn.pipeline import Pipeline\n",
        "from myencoder import MyEncoder\n",
        "import pickle\n",
        "\n",
        "#graphs\n",
        "import graphviz\n",
        "import matplotlib.pyplot as plt\n",
        "\n",
        "#evaluation\n",
        "from sklearn.metrics import accuracy_score, confusion_matrix, precision_score, recall_score, f1_score\n",
        "\n",
        "np.random.seed = 123457"
      ]
    },
    {
      "cell_type": "code",
      "source": [
        "# LETTURA DATASET\n",
        "data = pd.read_csv(\"train.csv\", sep=\",\")\n",
        "print(data.head())"
      ],
      "metadata": {
        "id": "5rtKZCsmZ_9y"
      },
      "execution_count": null,
      "outputs": []
    },
    {
      "cell_type": "code",
      "source": [
        "data['F13'] = data['F13'].replace(['USA','Jamaica','Caribbean','Cuba','Dominican-Republic','Guatemala','Haiti','Honduras','Nicaragua','El-Salvador','Puerto-Rico','Mexico','Canada'],'America N')\n",
        "data['F13'] = data['F13'].replace(['South','Columbia','Ecuador','Peru'],'America S')\n",
        "data['F13'] = data['F13'].replace(['Cambodia','China','Hong','India','Iran','Japan','Philippines','Taiwan','Vietnam','Thailand','Laos'],'Asia')\n",
        "data['F13'] = data['F13'].replace(['England','France','Germany','Greece','Hungary','Ireland','Italy','Netherlands','Poland','Portugal','Scotland','Yugoslavia'],'Europe')\n",
        "\n",
        "print(data.head())"
      ],
      "metadata": {
        "id": "n_wCtalQ7IZs"
      },
      "execution_count": null,
      "outputs": []
    },
    {
      "cell_type": "code",
      "execution_count": 370,
      "metadata": {
        "id": "2AaafCLmf8zf"
      },
      "outputs": [],
      "source": [
        "# print(\"\\nLabels: {}\".format(np.unique(data.Y, return_counts=True)))\n",
        "# print(\"\\n# of NaNs values for each column:\")\n",
        "# print(data.isnull().sum(axis=0))\n",
        "\n",
        "# dropping nan values: lowers the performance of circa 10%\n",
        "# data = data.dropna()\n",
        "\n",
        "x = data.iloc[:, :-1].to_numpy()\n",
        "y = data.iloc[:, -1].to_numpy()\n",
        "# print(x.shape)\n",
        "# print(y.shape)\n",
        "\n",
        "# stratify: to mantain the same mean as y for y_tr and y_ts\n",
        "x_tr, x_ts, y_tr, y_ts = train_test_split(x, y, test_size=0.24, random_state=258, stratify=y)\n",
        "\n",
        "# print(x_tr.shape)\n",
        "# print(y_tr.shape)\n",
        "# print(x_ts.shape)\n",
        "# print(y_ts.shape)\n",
        "\n",
        "#print(np.unique(y, return_counts=True)[1]/len(y))\n",
        "#print(np.unique(y_tr, return_counts=True)[1]/len(y_tr))\n",
        "#print(np.unique(y_ts, return_counts=True)[1]/len(y_ts))"
      ]
    },
    {
      "cell_type": "code",
      "execution_count": 372,
      "metadata": {
        "id": "ElFagyJWi2cN"
      },
      "outputs": [],
      "source": [
        "# sostituzione valori nan: dato che sono presenti valori categorici, e nello specifico sono proprio\n",
        "# tre colonne di quel tipo ad avere valori mancanti, abbiamo optato per un semplice Imputer \n",
        "# che sostituisse con i più frequenti.\n",
        "\n",
        "imputer = SimpleImputer(missing_values=np.nan, strategy = 'most_frequent')\n",
        "x_tr_notnan = imputer.fit_transform(x_tr)\n",
        "# la sostituzione sul test set avviene con la media/mediana/most_frequent calcolati sul training set\n",
        "x_ts_notnan = imputer.transform(x_ts)"
      ]
    },
    {
      "cell_type": "code",
      "execution_count": 373,
      "metadata": {
        "id": "eZ16glfaSw3K",
        "colab": {
          "base_uri": "https://localhost:8080/"
        },
        "outputId": "30ae1307-3dcd-436f-ce84-93bfa42b1675"
      },
      "outputs": [
        {
          "output_type": "stream",
          "name": "stdout",
          "text": [
            "This object is only an encoder\n",
            "None\n",
            "This object is only an encoder\n"
          ]
        }
      ],
      "source": [
        "# dato che però a seguito della sostituzione dei valori nan abbiamo ndarrays, \n",
        "# dobbiamo riportarci a dataframes per applicare la one hot coded technique\n",
        "\n",
        "x_tr_df = pd.DataFrame(x_tr_notnan)\n",
        "x_ts_df = pd.DataFrame(x_ts_notnan)\n",
        "\n",
        "x_tr_df.columns=['F0','F1','F2','F3','F4','F5','F6','F7','F8','F9','F10','F11','F12','F13']\n",
        "x_ts_df.columns=['F0','F1','F2','F3','F4','F5','F6','F7','F8','F9','F10','F11','F12','F13']\n",
        "\n",
        "pd.set_option('display.max_columns',None)\n",
        "\n",
        "# one hot code: stiamo rimpiazzando ogni colonna corrispondente ad un attributo categorico\n",
        "# con un set di colonne della cardinalità del range dell'attributo in questione, \n",
        "# a ciascuna delle quali corrisponde appunto un elemento nel dominio dell'attributo, ed ogni tupla\n",
        "# del set avrà, corrispondentemente a queste nuove colonne inserite, valore 1 su quella\n",
        "# rispettiva al valore che si ha nel set originale, e zero per tutte le altre\n",
        "# esempio: \n",
        "#          ..| Fi | ..  ---> ..| K1 | .. | Ki | .. | Kn |..\n",
        "#          ..| Ki | ..  ---> ..| 0  | .. | 1  | .. | 0  |..\n",
        "\n",
        "# ripetiamo questa operazione sia sul training set che sul test set\n",
        "\n",
        "encoder = MyEncoder(np.nan)\n",
        "encoded_df_tr = encoder.fit()\n",
        "print(encoded_df_tr)\n",
        "\n",
        "encoded_df_ts = encoder.transform()"
      ]
    },
    {
      "cell_type": "code",
      "execution_count": null,
      "metadata": {
        "id": "M7uWPVo-JsD0"
      },
      "outputs": [],
      "source": [
        "# SCALING\n",
        "print(\"Robust Scaler\")\n",
        "scaler = RobustScaler()\n",
        "x_tr_scaled = scaler.fit_transform(encoded_df_tr)\n",
        "x_ts_scaled = scaler.transform(encoded_df_ts)\n",
        "\n",
        "print(\"Media distribuzione di partenza: {}\".format(np.mean(encoded_df_tr, axis=0)))\n",
        "print(\"Media distribuzione scalata: {}\".format(np.mean(x_tr_scaled, axis=0)))\n",
        "\n",
        "print(\"Deviazione standard distribuzione di partenza: {}\".format(np.std(encoded_df_tr, axis=0)))\n",
        "print(\"Deviazione standard distribuzione scalata: {}\".format(np.std(x_tr_scaled, axis=0)))\n",
        "\n",
        "print(\"Media distribuzione di partenza: {}\".format(np.mean(encoded_df_ts, axis=0)))\n",
        "print(\"Media distribuzione scalata: {}\".format(np.mean(x_ts_scaled, axis=0)))\n",
        "\n",
        "print(\"Deviazione standard distribuzione di partenza: {}\".format(np.std(encoded_df_ts, axis=0)))\n",
        "print(\"Deviazione standard distribuzione scalata: {}\".format(np.std(x_ts_scaled, axis=0)))"
      ]
    },
    {
      "cell_type": "code",
      "source": [
        "# SERIALIZZAZIONE PIPELINE PER LA ROUTINE DI TEST\n",
        "import pickle\n",
        "import dill\n",
        "import cloudpickle\n",
        "\n",
        "preprocessor = Pipeline(steps=[('imputer',imputer),('encoder',encoder),('scaler',scaler)])\n",
        "#dump(preprocessor, 'preprocessor.joblib')\n",
        "with open('preprocessor.pkl', 'wb') as out_file:\n",
        "    dill.dump(preprocessor, out_file)\n"
      ],
      "metadata": {
        "id": "4zwHBlq3pfUS"
      },
      "execution_count": null,
      "outputs": []
    },
    {
      "cell_type": "code",
      "execution_count": null,
      "metadata": {
        "id": "GTFoLnQsSn_4"
      },
      "outputs": [],
      "source": [
        "# BALANCING: oversampling\n",
        "\n",
        "print(x_tr_scaled.shape)\n",
        "\n",
        "balancer = KMeansSMOTE(sampling_strategy=1, k_neighbors=5)\n",
        "x_tr_balanced, y_tr_balanced = balancer.fit_resample(x_tr_scaled, y_tr)\n",
        "\n",
        "print(x_tr_balanced.shape)"
      ]
    },
    {
      "cell_type": "code",
      "execution_count": null,
      "metadata": {
        "id": "2YcUIH8MQdu6"
      },
      "outputs": [],
      "source": [
        "# ANOMALY DETECTION CON ISOLATION FOREST\n",
        "print(\"Initial distribution\")\n",
        "print(len(x_tr))\n",
        "print(np.unique(y_tr, return_counts=True)[1]/len(y_tr))\n",
        "\n",
        "anomaly_detector = IsolationForest(n_estimators = 150, bootstrap = True, random_state = 42)\n",
        "anomaly_detector.fit(x_tr_balanced)\n",
        "is_inlier = anomaly_detector.predict(x_tr_balanced)\n",
        "\n",
        "print(np.unique(is_inlier, return_counts=True))\n",
        "x_tr_not_anomalous = x_tr_balanced[is_inlier==1,:]\n",
        "y_tr_not_anomalous = y_tr_balanced[is_inlier==1]\n",
        "\n",
        "print(\"Distribution after anomaly detection\")\n",
        "print(len(x_tr_not_anomalous))\n",
        "print(np.unique(y_tr_not_anomalous, return_counts=True)[1]/len(y_tr_not_anomalous))"
      ]
    },
    {
      "cell_type": "code",
      "execution_count": null,
      "metadata": {
        "id": "QlW1TnvrPSgQ"
      },
      "outputs": [],
      "source": [
        "# BALANCING: undersampling\n",
        "\n",
        "#questa tecnica non ha fornito i risultati sperati\n",
        "\n",
        "n_classes = len(np.unique(y_tr_not_anomalous))\n",
        "fig, ax = plt.subplots()\n",
        "sizes = [len(y_tr_not_anomalous[y_tr_not_anomalous==i]) for i in range(n_classes)]\n",
        "class_names = [chr(ord('A')+i) for i in range(n_classes)]\n",
        "\n",
        "ax.pie(sizes, labels=class_names, autopct='%1.1f%%',shadow=True,startangle=90)\n",
        "ax.axis(\"equal\")\n",
        "plt.show()\n",
        "\n",
        "sampler = RandomUnderSampler(sampling_strategy=1)\n",
        "x_tr_balanced, y_tr_balanced = sampler.fit_resample(x_tr_not_anomalous, y_tr_not_anomalous)\n",
        "\n",
        "print(\"Size del dataset prima del sampler: {}\".format(x_tr_not_anomalous.shape[0]))\n",
        "print(\"Size del dataset dopo il sampler: {}\".format(x_tr_balanced.shape[0]))\n",
        "\n",
        "fig, ax = plt.subplots()\n",
        "sizes = [len(y_tr_balanced[y_tr_balanced==i]) for i in range(n_classes)]\n",
        "class_names = [chr(ord('A')+i) for i in range(n_classes)]\n",
        "\n",
        "ax.pie(sizes, labels=class_names, autopct='%1.1f%%',shadow=True,startangle=90)\n",
        "ax.axis(\"equal\")\n",
        "plt.show()"
      ]
    },
    {
      "cell_type": "code",
      "execution_count": null,
      "metadata": {
        "id": "Wr5i9ZUl0aZc"
      },
      "outputs": [],
      "source": [
        "def train_evaluate(model, x_tr, y_tr, x_ts, y_ts):\n",
        "  model.fit(x_tr, y_tr)\n",
        "  y_tr_pred = model.predict(x_tr)\n",
        "  y_ts_pred = model.predict(x_ts)\n",
        "  print(\"Accuracy on training set {}\".format(accuracy_score(y_tr, y_tr_pred)))\n",
        "  print(\"F1 score on training set {}\".format(f1_score(y_tr, y_tr_pred)))\n",
        "  print(confusion_matrix(y_tr, y_tr_pred))\n",
        "  print(\"Accuracy on test set {}\".format(accuracy_score(y_ts, y_ts_pred)))\n",
        "  print(\"F1 score on test set {}\".format(f1_score(y_ts, y_ts_pred)))\n",
        "  print(confusion_matrix(y_ts, y_ts_pred))"
      ]
    },
    {
      "cell_type": "code",
      "execution_count": null,
      "metadata": {
        "colab": {
          "base_uri": "https://localhost:8080/"
        },
        "id": "fTkCvE8sFpKN",
        "outputId": "ec0623b0-7c5f-4715-a91b-f41273a512a7"
      },
      "outputs": [
        {
          "output_type": "stream",
          "name": "stdout",
          "text": [
            "******* GradientBoostingClassifier\n",
            "Accuracy on training set 0.9317338741960449\n",
            "F1 score on training set 0.9303794023188722\n",
            "[[17821   886]\n",
            " [ 1672 17092]]\n",
            "Accuracy on test set 0.8746001279590531\n",
            "F1 score on test set 0.7219069239500567\n",
            "[[5563  370]\n",
            " [ 610 1272]]\n",
            "******* GradientBoostingClassifier\n",
            "Accuracy on training set 0.9319512454758356\n",
            "F1 score on training set 0.9304009363346852\n",
            "[[17928   859]\n",
            " [ 1698 17091]]\n",
            "Accuracy on test set 0.8766474728087013\n",
            "F1 score on test set 0.7251995438996578\n",
            "[[5579  354]\n",
            " [ 610 1272]]\n",
            "******* LGBMClassifier\n",
            "Accuracy on training set 0.9262295081967213\n",
            "F1 score on training set 0.9243449781659387\n",
            "[[17870   917]\n",
            " [ 1855 16934]]\n",
            "Accuracy on test set 0.8747280870121561\n",
            "F1 score on test set 0.7197251646149441\n",
            "[[5579  354]\n",
            " [ 625 1257]]\n"
          ]
        }
      ],
      "source": [
        "# CLASSIFICATION: METODI ENSEMBLE\n",
        "#print(\"******* RandomForestClassifier\")\n",
        "#classifier = RandomForestClassifier(max_depth=5, n_estimators=100)\n",
        "#train_evaluate(classifier, x_tr_not_anomalous, y_tr_not_anomalous, x_ts_scaled, y_ts)\n",
        "\n",
        "# i classificatori che hanno permesso di ottenere le migliori performance\n",
        "# sono stati senza dubbio gli alberi, e in particolare il gradient boosting classifier (per ora siamo a: 87,54-87,62-87,71)\n",
        "\n",
        "print(\"******* GradientBoostingClassifier\")\n",
        "classifier = GradientBoostingClassifier(max_depth=5, n_estimators=220)\n",
        "train_evaluate(classifier, x_tr_not_anomalous, y_tr_not_anomalous, x_ts_scaled, y_ts)\n",
        "\n",
        "print(\"******* GradientBoostingClassifier\")\n",
        "classifier2 = GradientBoostingClassifier(max_depth=5, n_estimators=220)\n",
        "train_evaluate(classifier2, x_tr_balanced, y_tr_balanced, x_ts_scaled, y_ts)\n",
        "\n",
        "import lightgbm as lgb\n",
        "from lightgbm import LGBMClassifier\n",
        "\n",
        "print(\"******* LGBMClassifier\")\n",
        "classifier3 = LGBMClassifier(max_depth=5, n_estimators=220)\n",
        "train_evaluate(classifier3, x_tr_balanced, y_tr_balanced, x_ts_scaled, y_ts)"
      ]
    },
    {
      "cell_type": "code",
      "execution_count": null,
      "metadata": {
        "id": "WkXM09dXPLEm",
        "colab": {
          "base_uri": "https://localhost:8080/"
        },
        "outputId": "0c653318-9069-4681-fce8-39aa3242f07e"
      },
      "outputs": [
        {
          "output_type": "execute_result",
          "data": {
            "text/plain": [
              "['classifier.joblib']"
            ]
          },
          "metadata": {},
          "execution_count": 217
        }
      ],
      "source": [
        "dump(classifier2, 'classifier.joblib') "
      ]
    }
  ],
  "metadata": {
    "colab": {
      "collapsed_sections": [],
      "name": "training_routine.ipynb",
      "provenance": [],
      "include_colab_link": true
    },
    "kernelspec": {
      "display_name": "Python 3",
      "name": "python3"
    },
    "language_info": {
      "name": "python"
    }
  },
  "nbformat": 4,
  "nbformat_minor": 0
}