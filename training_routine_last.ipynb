{
  "cells": [
    {
      "cell_type": "markdown",
      "metadata": {
        "id": "view-in-github",
        "colab_type": "text"
      },
      "source": [
        "<a href=\"https://colab.research.google.com/github/GiulioAppetito/Progetto_MOBD_2122/blob/main/training_routine_last.ipynb\" target=\"_parent\"><img src=\"https://colab.research.google.com/assets/colab-badge.svg\" alt=\"Open In Colab\"/></a>"
      ]
    },
    {
      "cell_type": "code",
      "execution_count": 168,
      "metadata": {
        "id": "Dn_vjC4iSuRW",
        "outputId": "da7a21fb-2bb4-4f85-c22f-5f70851aafc2",
        "colab": {
          "base_uri": "https://localhost:8080/"
        }
      },
      "outputs": [
        {
          "output_type": "stream",
          "name": "stdout",
          "text": [
            "Drive already mounted at /content/drive; to attempt to forcibly remount, call drive.mount(\"/content/drive\", force_remount=True).\n"
          ]
        }
      ],
      "source": [
        "from google.colab import drive\n",
        "drive.mount('/content/drive')"
      ]
    },
    {
      "cell_type": "code",
      "execution_count": 169,
      "metadata": {
        "id": "fTRrYnQDTEMh",
        "outputId": "6d287285-3c14-4482-cf0a-96d06b12d976",
        "colab": {
          "base_uri": "https://localhost:8080/"
        }
      },
      "outputs": [
        {
          "output_type": "stream",
          "name": "stdout",
          "text": [
            "/content/drive/My Drive/ProgettoMOBD\n"
          ]
        }
      ],
      "source": [
        "%cd /content/drive/My\\ Drive/ProgettoMOBD"
      ]
    },
    {
      "cell_type": "code",
      "execution_count": 170,
      "metadata": {
        "id": "xsl9cpj0TdP-"
      },
      "outputs": [],
      "source": [
        "import sklearn\n",
        "import pandas as pd\n",
        "import numpy as np\n",
        "\n",
        "from numpy import array\n",
        "from sklearn.model_selection import train_test_split, GridSearchCV\n",
        "from sklearn.experimental import enable_iterative_imputer\n",
        "from sklearn_pandas import CategoricalImputer\n",
        "from sklearn.preprocessing import OneHotEncoder\n",
        "from sklearn.model_selection import KFold\n",
        "from sklearn.ensemble import IsolationForest, RandomForestClassifier, GradientBoostingClassifier, AdaBoostClassifier\n",
        "from sklearn.impute import SimpleImputer, IterativeImputer, KNNImputer\n",
        "from sklearn.preprocessing import StandardScaler, MinMaxScaler, MaxAbsScaler, RobustScaler\n",
        "from imblearn.under_sampling import RandomUnderSampler, ClusterCentroids\n",
        "from imblearn.over_sampling import SVMSMOTE\n",
        "from imblearn.over_sampling import ADASYN\n",
        "from imblearn.over_sampling import KMeansSMOTE\n",
        "from imblearn.over_sampling import RandomOverSampler, SMOTE\n",
        "from sklearn.tree import DecisionTreeClassifier,export_graphviz\n",
        "from sklearn import tree\n",
        "\n",
        "#serialization\n",
        "from joblib import dump\n",
        "from sklearn.pipeline import Pipeline\n",
        "import pickle\n",
        "import dill\n",
        "\n",
        "#graphs\n",
        "import graphviz\n",
        "import matplotlib.pyplot as plt\n",
        "\n",
        "#evaluation\n",
        "from sklearn.metrics import accuracy_score, confusion_matrix, precision_score, recall_score, f1_score\n",
        "\n",
        "np.random.seed = 123457"
      ]
    },
    {
      "cell_type": "code",
      "source": [
        "# LETTURA DATASET\n",
        "data = pd.read_csv(\"train.csv\", sep=\",\")\n",
        "print(data.head())"
      ],
      "metadata": {
        "id": "5rtKZCsmZ_9y"
      },
      "execution_count": null,
      "outputs": []
    },
    {
      "cell_type": "code",
      "execution_count": null,
      "metadata": {
        "id": "2AaafCLmf8zf"
      },
      "outputs": [],
      "source": [
        "x = data.iloc[:, :-1].to_numpy()\n",
        "y = data.iloc[:, -1].to_numpy()\n",
        "print(x.shape)\n",
        "print(y.shape)\n",
        "\n",
        "# stratify: to mantain the same mean as y for y_tr and y_ts\n",
        "x_tr, x_ts, y_tr, y_ts = train_test_split(x, y, test_size=0.24, random_state=258, stratify=y)\n",
        "\n",
        "print(np.unique(y, return_counts=True)[1]/len(y))\n",
        "print(np.unique(y_tr, return_counts=True)[1]/len(y_tr))\n",
        "print(np.unique(y_ts, return_counts=True)[1]/len(y_ts))"
      ]
    },
    {
      "cell_type": "code",
      "execution_count": 173,
      "metadata": {
        "id": "ElFagyJWi2cN"
      },
      "outputs": [],
      "source": [
        "# sostituzione valori nan: dato che sono presenti valori categorici, e nello specifico sono proprio\n",
        "# tre colonne di quel tipo ad avere valori mancanti, abbiamo optato per un semplice Imputer \n",
        "# che sostituisse con i più frequenti.\n",
        "\n",
        "imputer = SimpleImputer(missing_values=np.nan, strategy = 'most_frequent')\n",
        "x_tr_notnan = imputer.fit_transform(x_tr)\n",
        "# la sostituzione sul test set avviene con il most_frequent calcolato sul training set\n",
        "x_ts_notnan = imputer.transform(x_ts)"
      ]
    },
    {
      "cell_type": "code",
      "source": [
        "# one hot code: stiamo rimpiazzando ogni colonna corrispondente ad un attributo categorico\n",
        "# con un set di colonne della cardinalità del range dell'attributo in questione, \n",
        "# a ciascuna delle quali corrisponde appunto un elemento nel dominio dell'attributo, ed ogni tupla\n",
        "# del set avrà, corrispondentemente a queste nuove colonne inserite, valore 1 su quella\n",
        "# rispettiva al valore che si ha nel set originale, e zero per tutte le altre\n",
        "# esempio: \n",
        "#          ..| Fi | ..  ---> ..| K1 | .. | Ki | .. | Kn |..\n",
        "#          ..| Ki | ..  ---> ..| 0  | .. | 1  | .. | 0  |..\n",
        "\n",
        "\n",
        "# ripetiamo questa operazione sia sul training set che sul test set\n",
        "\n",
        "class MyEncoder:\n",
        "  def __init__(self, training_set):\n",
        "    self.df_training = training_set\n",
        "  def one_hot_encoding(self, df):\n",
        "    df = pd.DataFrame(df)\n",
        "    df.columns=['F0','F1','F2','F3','F4','F5','F6','F7','F8','F9','F10','F11','F12','F13']\n",
        "    df['F13'] = df['F13'].replace(['Caribbean','Cuba','Canada','Guatemala','Honduras'],'USA')\n",
        "    df['F13'] = df['F13'].replace(['Jamaica','Puerto-Rico','Mexico','South','Dominican-Republic','Haiti','Columbia','Ecuador','Peru','Nicaragua','El-Salvador','Cambodia','China','Hong','India','Iran','Japan','Philippines','Taiwan','Vietnam','Thailand','Laos','England','France','Germany','Greece','Hungary','Ireland','Italy','Netherlands','Poland','Portugal','Scotland','Yugoslavia'],'non-USA')\n",
        "    df['F3'] = df['F4']\n",
        "    df['F8'] = df['F8'].replace(['black','asian','other','american'],'non-caucasian')\n",
        "    #encoding\n",
        "    final_df = pd.concat([df,pd.get_dummies(df['F1'])],axis = 1)\n",
        "    final_df.drop('F1', axis=1, inplace=True)\n",
        "    final_df = pd.concat([final_df,pd.get_dummies(df['F3'])],axis = 1)\n",
        "    final_df.drop('F7', axis=1, inplace=True)\n",
        "    final_df = pd.concat([final_df,pd.get_dummies(df['F9'])],axis = 1)\n",
        "    final_df.drop('F9', axis=1, inplace=True)\n",
        "    final_df = pd.concat([final_df,pd.get_dummies(df['F8'])],axis = 1)\n",
        "    final_df.drop('F8', axis=1, inplace=True)\n",
        "    final_df = pd.concat([final_df,pd.get_dummies(df['F5'])],axis = 1)\n",
        "    final_df.drop('F5', axis=1, inplace=True)\n",
        "    final_df = pd.concat([final_df,pd.get_dummies(df['F6'])],axis = 1)\n",
        "    final_df.drop('F6', axis=1, inplace=True)\n",
        "    final_df = pd.concat([final_df,pd.get_dummies(df['F13'])],axis = 1)\n",
        "    final_df.drop('F13', axis=1, inplace=True)\n",
        "    return  final_df\n",
        "  def align(self, test_set):\n",
        "    x_tr_alligned, x_ts_alligned = self.df_training.align(test_set, join=\"outer\", axis=1,fill_value=0)\n",
        "    return x_ts_alligned\n",
        "  def fit(self, train_set):\n",
        "    tr_set = self.one_hot_encoding(train_set)\n",
        "    self.df_training = tr_set\n",
        "    return self.df_training\n",
        "  def transform(self, test_set):\n",
        "    test_set = self.one_hot_encoding(test_set)\n",
        "    test_set = self.align(test_set)\n",
        "    return test_set"
      ],
      "metadata": {
        "id": "JkVMFhRzeYBr"
      },
      "execution_count": 174,
      "outputs": []
    },
    {
      "cell_type": "code",
      "execution_count": null,
      "metadata": {
        "id": "eZ16glfaSw3K"
      },
      "outputs": [],
      "source": [
        "# dato che però a seguito della sostituzione dei valori nan abbiamo ndarrays, \n",
        "# dobbiamo riportarci a dataframes per applicare la one hot coded technique\n",
        "pd.set_option('display.max_columns',None)\n",
        "\n",
        "encoder = MyEncoder(np.nan)\n",
        "encoded_df_tr = encoder.fit(x_tr_notnan)\n",
        "print(encoded_df_tr)\n",
        "\n",
        "encoded_df_ts = encoder.transform(x_ts_notnan)"
      ]
    },
    {
      "cell_type": "code",
      "execution_count": null,
      "metadata": {
        "id": "M7uWPVo-JsD0"
      },
      "outputs": [],
      "source": [
        "# SCALING\n",
        "print(\"Robust Scaler\")\n",
        "scaler = RobustScaler()\n",
        "x_tr_scaled = scaler.fit_transform(encoded_df_tr)\n",
        "x_ts_scaled = scaler.transform(encoded_df_ts)\n",
        "\n",
        "print(\"Media distribuzione di partenza: {}\".format(np.mean(encoded_df_tr, axis=0)))\n",
        "print(\"Media distribuzione scalata: {}\".format(np.mean(x_tr_scaled, axis=0)))\n",
        "\n",
        "print(\"Deviazione standard distribuzione di partenza: {}\".format(np.std(encoded_df_tr, axis=0)))\n",
        "print(\"Deviazione standard distribuzione scalata: {}\".format(np.std(x_tr_scaled, axis=0)))\n",
        "\n",
        "print(\"Media distribuzione di partenza: {}\".format(np.mean(encoded_df_ts, axis=0)))\n",
        "print(\"Media distribuzione scalata: {}\".format(np.mean(x_ts_scaled, axis=0)))\n",
        "\n",
        "print(\"Deviazione standard distribuzione di partenza: {}\".format(np.std(encoded_df_ts, axis=0)))\n",
        "print(\"Deviazione standard distribuzione scalata: {}\".format(np.std(x_ts_scaled, axis=0)))"
      ]
    },
    {
      "cell_type": "code",
      "source": [
        "from sklearn.ensemble import RandomForestClassifier\n",
        "#\n",
        "# Train the mode\n",
        "#\n",
        "forest = RandomForestClassifier()\n",
        "forest.fit(x_tr_scaled, y_tr.ravel())\n",
        "importances = forest.feature_importances_\n",
        "#\n",
        "# Sort the feature importance in descending order\n",
        "#\n",
        "sorted_indices = np.argsort(importances)[::-1]\n",
        "import matplotlib.pyplot as plt\n",
        " \n",
        "plt.title('Feature Importance')\n",
        "plt.bar(range(encoded_df_tr.shape[1]), importances[sorted_indices], align='center')\n",
        "plt.xticks(range(encoded_df_tr.shape[1]), encoded_df_tr.columns[sorted_indices], rotation=90)\n",
        "plt.tight_layout()\n",
        "plt.show()"
      ],
      "metadata": {
        "id": "ov2ZCikxQJ8a",
        "outputId": "708177f9-eae3-4e58-fe9b-9617474cc0e4",
        "colab": {
          "base_uri": "https://localhost:8080/",
          "height": 297
        }
      },
      "execution_count": 177,
      "outputs": [
        {
          "output_type": "display_data",
          "data": {
            "text/plain": [
              "<Figure size 432x288 with 1 Axes>"
            ],
            "image/png": "[encoded data removed]"
          },
          "metadata": {
            "needs_background": "light"
          }
        }
      ]
    },
    {
      "cell_type": "code",
      "source": [
        "# SERIALIZZAZIONE PIPELINE PER LA ROUTINE DI TEST\n",
        "import pickle\n",
        "import dill\n",
        "import cloudpickle\n",
        "\n",
        "preprocessor = Pipeline(steps=[('imputer',imputer),('encoder',encoder),('scaler',scaler)])\n",
        "\n",
        "with open('preprocessor.pkl', 'wb') as out_file:\n",
        "    dill.dump(preprocessor, out_file)"
      ],
      "metadata": {
        "id": "4zwHBlq3pfUS"
      },
      "execution_count": 178,
      "outputs": []
    },
    {
      "cell_type": "code",
      "execution_count": null,
      "metadata": {
        "id": "GTFoLnQsSn_4"
      },
      "outputs": [],
      "source": [
        "# BALANCING: oversampling\n",
        "\n",
        "print(x_tr_scaled.shape)\n",
        "\n",
        "balancer = KMeansSMOTE(sampling_strategy=1, k_neighbors=5, kmeans_estimator=5)\n",
        "x_tr_balanced, y_tr_balanced = balancer.fit_resample(x_tr_scaled, y_tr)\n",
        "\n",
        "print(x_tr_balanced.shape)"
      ]
    },
    {
      "cell_type": "code",
      "execution_count": null,
      "metadata": {
        "id": "2YcUIH8MQdu6"
      },
      "outputs": [],
      "source": [
        "# ANOMALY DETECTION CON ISOLATION FOREST\n",
        "print(\"Initial distribution\")\n",
        "print(len(x_tr_balanced))\n",
        "print(np.unique(y_tr_balanced, return_counts=True)[1]/len(y_tr))\n",
        "\n",
        "anomaly_detector = IsolationForest(n_estimators = 220, bootstrap = True, random_state = 42)\n",
        "anomaly_detector.fit(x_tr_balanced)\n",
        "is_inlier = anomaly_detector.predict(x_tr_balanced)\n",
        "\n",
        "print(np.unique(is_inlier, return_counts=True))\n",
        "x_tr_not_anomalous = x_tr_balanced[is_inlier==1,:]\n",
        "y_tr_not_anomalous = y_tr_balanced[is_inlier==1]\n",
        "\n",
        "print(\"Distribution after (balancing and) anomaly detection\")\n",
        "print(len(x_tr_not_anomalous))\n",
        "print(np.unique(y_tr_not_anomalous, return_counts=True)[1]/len(y_tr_not_anomalous))"
      ]
    },
    {
      "cell_type": "code",
      "execution_count": null,
      "metadata": {
        "id": "QlW1TnvrPSgQ"
      },
      "outputs": [],
      "source": [
        "# BALANCING: undersampling\n",
        "\n",
        "n_classes = len(np.unique(y_tr_not_anomalous))\n",
        "fig, ax = plt.subplots()\n",
        "sizes = [len(y_tr_not_anomalous[y_tr_not_anomalous==i]) for i in range(n_classes)]\n",
        "class_names = [chr(ord('A')+i) for i in range(n_classes)]\n",
        "\n",
        "ax.pie(sizes, labels=class_names, autopct='%1.1f%%',shadow=True,startangle=90)\n",
        "ax.axis(\"equal\")\n",
        "plt.show()\n",
        "\n",
        "from imblearn.under_sampling import NearMiss\n",
        "sampler = RandomUnderSampler(sampling_strategy=1)\n",
        "x_tr_balanced2, y_tr_balanced2 = sampler.fit_resample(x_tr_not_anomalous, y_tr_not_anomalous)\n",
        "\n",
        "print(\"Size del dataset prima del sampler: {}\".format(x_tr_not_anomalous.shape[0]))\n",
        "print(\"Size del dataset dopo il sampler: {}\".format(x_tr_balanced2.shape[0]))\n",
        "\n",
        "fig, ax = plt.subplots()\n",
        "sizes = [len(y_tr_balanced2[y_tr_balanced2==i]) for i in range(n_classes)]\n",
        "class_names = [chr(ord('A')+i) for i in range(n_classes)]\n",
        "\n",
        "ax.pie(sizes, labels=class_names, autopct='%1.1f%%',shadow=True,startangle=90)\n",
        "ax.axis(\"equal\")\n",
        "plt.show()"
      ]
    },
    {
      "cell_type": "code",
      "execution_count": 182,
      "metadata": {
        "id": "Wr5i9ZUl0aZc"
      },
      "outputs": [],
      "source": [
        "def train_evaluate(model, x_tr, y_tr, x_ts, y_ts):\n",
        "  model.fit(x_tr, y_tr)\n",
        "  y_tr_pred = model.predict(x_tr)\n",
        "  y_ts_pred = model.predict(x_ts)\n",
        "  print(\"Accuracy on training set {}\".format(accuracy_score(y_tr, y_tr_pred)))\n",
        "  print(\"F1 score on training set {}\".format(f1_score(y_tr, y_tr_pred)))\n",
        "  print(confusion_matrix(y_tr, y_tr_pred))\n",
        "  print(\"Accuracy on test set {}\".format(accuracy_score(y_ts, y_ts_pred)))\n",
        "  print(\"F1 score on test set {}\".format(f1_score(y_ts, y_ts_pred)))\n",
        "  print(confusion_matrix(y_ts, y_ts_pred))"
      ]
    },
    {
      "cell_type": "code",
      "execution_count": 184,
      "metadata": {
        "colab": {
          "base_uri": "https://localhost:8080/"
        },
        "id": "fTkCvE8sFpKN",
        "outputId": "e14f45bb-8793-47d3-bfc5-1c005f57c541"
      },
      "outputs": [
        {
          "output_type": "stream",
          "name": "stdout",
          "text": [
            "******* GradientBoostingClassifier: oversampling\n",
            "Accuracy on training set 0.9280353435886517\n",
            "F1 score on training set 0.9264137593207423\n",
            "[[17849   938]\n",
            " [ 1766 17021]]\n",
            "Accuracy on test set 0.8798464491362764\n",
            "F1 score on test set 0.7327070879590094\n",
            "[[5589  344]\n",
            " [ 595 1287]]\n"
          ]
        }
      ],
      "source": [
        "# CLASSIFICATION: METODI ENSEMBLE\n",
        "\n",
        "print(\"******* GradientBoostingClassifier: oversampling\")\n",
        "classifier2 = GradientBoostingClassifier(max_depth=5, n_estimators=225,loss='exponential')\n",
        "train_evaluate(classifier2, x_tr_balanced, y_tr_balanced, x_ts_scaled, y_ts)\n"
      ]
    },
    {
      "cell_type": "code",
      "execution_count": null,
      "metadata": {
        "id": "WkXM09dXPLEm"
      },
      "outputs": [],
      "source": [
        "dump(classifier2, 'classifier.joblib') "
      ]
    }
  ],
  "metadata": {
    "colab": {
      "collapsed_sections": [],
      "name": "training_routine.ipynb",
      "provenance": [],
      "include_colab_link": true
    },
    "kernelspec": {
      "display_name": "Python 3",
      "name": "python3"
    },
    "language_info": {
      "name": "python"
    }
  },
  "nbformat": 4,
  "nbformat_minor": 0
}