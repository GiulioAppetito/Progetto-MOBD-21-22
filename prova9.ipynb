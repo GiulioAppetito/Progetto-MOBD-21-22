{
  "nbformat": 4,
  "nbformat_minor": 0,
  "metadata": {
    "colab": {
      "name": "Untitled0.ipynb",
      "provenance": [],
      "collapsed_sections": [],
      "include_colab_link": true
    },
    "kernelspec": {
      "name": "python3",
      "display_name": "Python 3"
    },
    "language_info": {
      "name": "python"
    }
  },
  "cells": [
    {
      "cell_type": "markdown",
      "metadata": {
        "id": "view-in-github",
        "colab_type": "text"
      },
      "source": [
        "<a href=\"https://colab.research.google.com/github/GiulioAppetito/Progetto_MOBD_2122/blob/main/prova9.ipynb\" target=\"_parent\"><img src=\"https://colab.research.google.com/assets/colab-badge.svg\" alt=\"Open In Colab\"/></a>"
      ]
    },
    {
      "cell_type": "code",
      "execution_count": 1,
      "metadata": {
        "colab": {
          "base_uri": "https://localhost:8080/"
        },
        "id": "Dn_vjC4iSuRW",
        "outputId": "a8f95968-6d07-42cc-a3e8-8027cd2e77b3"
      },
      "outputs": [
        {
          "output_type": "stream",
          "name": "stdout",
          "text": [
            "Mounted at /content/drive\n"
          ]
        }
      ],
      "source": [
        "from google.colab import drive\n",
        "drive.mount('/content/drive')"
      ]
    },
    {
      "cell_type": "code",
      "source": [
        "%cd /content/drive/My\\ Drive/ProgettoMOBD"
      ],
      "metadata": {
        "colab": {
          "base_uri": "https://localhost:8080/"
        },
        "id": "fTRrYnQDTEMh",
        "outputId": "31a0fa6a-0cf7-4056-8cb2-9b9f60f085e9"
      },
      "execution_count": 2,
      "outputs": [
        {
          "output_type": "stream",
          "name": "stdout",
          "text": [
            "/content/drive/My Drive/ProgettoMOBD\n"
          ]
        }
      ]
    },
    {
      "cell_type": "code",
      "source": [
        "import sklearn\n",
        "import pandas as pd\n",
        "import numpy as np\n",
        "\n",
        "from sklearn.preprocessing import OneHotEncoder\n",
        "from sklearn.model_selection import train_test_split, GridSearchCV\n",
        "from sklearn.pipeline import Pipeline\n",
        "from sklearn.experimental import enable_iterative_imputer\n",
        "from sklearn_pandas import CategoricalImputer\n",
        "from sklearn.ensemble import IsolationForest, RandomForestClassifier, GradientBoostingClassifier, AdaBoostClassifier\n",
        "from sklearn.impute import SimpleImputer, IterativeImputer, KNNImputer\n",
        "from sklearn.preprocessing import StandardScaler, MinMaxScaler, MaxAbsScaler, RobustScaler\n",
        "from sklearn.svm import SVC, LinearSVC\n",
        "from imblearn.under_sampling import RandomUnderSampler, ClusterCentroids\n",
        "from imblearn.over_sampling import RandomOverSampler, SMOTE\n",
        "from sklearn.tree import DecisionTreeClassifier,export_graphviz\n",
        "from sklearn import tree\n",
        "import graphviz\n",
        "import matplotlib.pyplot as plt\n",
        "from sklearn.metrics import accuracy_score, confusion_matrix, precision_score, recall_score, f1_score\n",
        "\n",
        "np.random.seed = 123"
      ],
      "metadata": {
        "id": "xsl9cpj0TdP-"
      },
      "execution_count": 47,
      "outputs": []
    },
    {
      "cell_type": "code",
      "source": [
        "# LETTURA DATASET\n",
        "data = pd.read_csv(\"train.csv\", sep=\",\")\n",
        "print(data.head())\n",
        "# print(\"\\nLabels: {}\".format(np.unique(data.Y, return_counts=True)))\n",
        "\n",
        "# print(\"\\n# of NaNs values for each column:\")\n",
        "# print(data.isnull().sum(axis=0))\n",
        "\n",
        "# dropping nan values: lowers the performance of circa 10%\n",
        "# data = data.dropna()\n",
        "\n",
        "x = data.iloc[:, :-1].to_numpy()\n",
        "y = data.iloc[:, -1].to_numpy()\n",
        "# print(x.shape)\n",
        "# print(y.shape)\n",
        "\n",
        "# stratify: to mantain the same mean as y for y_tr and y_ts\n",
        "x_tr, x_ts, y_tr, y_ts = train_test_split(x, y, test_size=0.3, random_state=258, stratify=y)\n",
        "\n",
        "# print(x_tr.shape)\n",
        "# print(y_tr.shape)\n",
        "# print(x_ts.shape)\n",
        "# print(y_ts.shape)\n",
        "\n",
        "print(np.unique(y, return_counts=True)[1]/len(y))\n",
        "print(np.unique(y_tr, return_counts=True)[1]/len(y_tr))\n",
        "print(np.unique(y_ts, return_counts=True)[1]/len(y_ts))"
      ],
      "metadata": {
        "id": "2AaafCLmf8zf"
      },
      "execution_count": null,
      "outputs": []
    },
    {
      "cell_type": "code",
      "source": [
        "# valori nan\n",
        "imp = SimpleImputer(missing_values=np.nan, strategy = 'most_frequent')\n",
        "x_tr_notnan = imp.fit_transform(x_tr)\n",
        "x_ts_notnan = imp.transform(x_ts)"
      ],
      "metadata": {
        "id": "ElFagyJWi2cN"
      },
      "execution_count": 57,
      "outputs": []
    },
    {
      "cell_type": "code",
      "source": [
        "#gestione features categoriche\n",
        "#dato che però questi sono ndarrays, per fare la one hot coded technique dobbiamo usare dataframes\n",
        "\n",
        "x_tr_df = pd.DataFrame(x_tr_notnan)\n",
        "x_ts_df = pd.DataFrame(x_ts_notnan)\n",
        "\n",
        "x_tr_df.columns=['F0','F1','F2','F3','F4','F5','F6','F7','F8','F9','F10','F11','F12','F13']\n",
        "x_ts_df.columns=['F0','F1','F2','F3','F4','F5','F6','F7','F8','F9','F10','F11','F12','F13']\n",
        "\n",
        "# one hot code\n",
        "\n",
        "final_df_tr = pd.concat([x_tr_df,pd.get_dummies(x_tr_df['F1'])],axis = 1)\n",
        "final_df_tr.drop('F1', axis=1, inplace=True)\n",
        "\n",
        "final_df_tr = pd.concat([final_df_tr,pd.get_dummies(x_tr_df['F7'])],axis = 1)\n",
        "final_df_tr.drop('F7', axis=1, inplace=True)\n",
        "\n",
        "final_df_tr = pd.concat([final_df_tr,pd.get_dummies(x_tr_df['F9'])],axis = 1)\n",
        "final_df_tr.drop('F9', axis=1, inplace=True)\n",
        "\n",
        "final_df_tr = pd.concat([final_df_tr,pd.get_dummies(x_tr_df['F8'])],axis = 1)\n",
        "final_df_tr.drop('F8', axis=1, inplace=True)\n",
        "\n",
        "final_df_tr = pd.concat([final_df_tr,pd.get_dummies(x_tr_df['F5'])],axis = 1)\n",
        "final_df_tr.drop('F5', axis=1, inplace=True)\n",
        "\n",
        "final_df_tr = pd.concat([final_df_tr,pd.get_dummies(x_tr_df['F6'])],axis = 1)\n",
        "final_df_tr.drop('F6', axis=1, inplace=True)\n",
        "\n",
        "final_df_tr = pd.concat([final_df_tr,pd.get_dummies(x_tr_df['F13'])],axis = 1)\n",
        "final_df_tr.drop('F13', axis=1, inplace=True)\n",
        "\n",
        "final_df_tr.drop('F3', axis=1, inplace=True)\n",
        "\n",
        "#print(final_df_tr.head())\n",
        "\n",
        "\n",
        "final_df_ts = pd.concat([x_ts_df,pd.get_dummies(x_ts_df['F1'])],axis = 1)\n",
        "final_df_ts.drop('F1', axis=1, inplace=True)\n",
        "\n",
        "final_df_ts = pd.concat([final_df_ts,pd.get_dummies(x_ts_df['F7'])],axis = 1)\n",
        "final_df_ts.drop('F7', axis=1, inplace=True)\n",
        "\n",
        "final_df_ts = pd.concat([final_df_ts,pd.get_dummies(x_ts_df['F9'])],axis = 1)\n",
        "final_df_ts.drop('F9', axis=1, inplace=True)\n",
        "\n",
        "final_df_ts = pd.concat([final_df_ts,pd.get_dummies(x_ts_df['F8'])],axis = 1)\n",
        "final_df_ts.drop('F8', axis=1, inplace=True)\n",
        "\n",
        "final_df_ts = pd.concat([final_df_ts,pd.get_dummies(x_ts_df['F5'])],axis = 1)\n",
        "final_df_ts.drop('F5', axis=1, inplace=True)\n",
        "\n",
        "final_df_ts = pd.concat([final_df_ts,pd.get_dummies(x_ts_df['F6'])],axis = 1)\n",
        "final_df_ts.drop('F6', axis=1, inplace=True)\n",
        "\n",
        "final_df_ts = pd.concat([final_df_ts,pd.get_dummies(x_ts_df['F13'])],axis = 1)\n",
        "final_df_ts.drop('F13', axis=1, inplace=True)\n",
        "\n",
        "final_df_ts.drop('F3', axis=1, inplace=True)\n",
        "\n",
        "#print(final_df_ts.tail())\n",
        "#print(final_df_tr.tail())\n",
        "\n",
        "# la align la stiamo usando perchè avendo usato get_dummies purtroppo se qualche valore che compare in uno dei due set\n",
        "# non è presente nell'altro, non verrà generata la colonna corrispondente, per cui non è detto che i due dataframe che si \n",
        "# vanno ad usare abbiamo stesso insieme di colonne.\n",
        "# tantomeno se si va ad usare un dataset che non si conosce, non si può sapere se in futuro ci saranno valori di cui non \n",
        "# si è tenuto conto etc\n",
        "x_tr_df, x_ts_df = final_df_tr.align(final_df_ts, join=\"outer\", axis=1,fill_value=0)\n",
        "print(x_tr_df.tail())\n",
        "print(x_ts_df.tail())\n"
      ],
      "metadata": {
        "id": "eZ16glfaSw3K"
      },
      "execution_count": null,
      "outputs": []
    },
    {
      "cell_type": "code",
      "source": [
        "# SCALING\n",
        "print(\"Robust Scaler\")\n",
        "scaler = RobustScaler()\n",
        "x_tr_scaled = scaler.fit_transform(x_tr_df)\n",
        "x_ts_scaled = scaler.transform(x_ts_df)\n",
        "\n",
        "print(\"Media distribuzione di partenza: {}\".format(np.mean(x_tr_df, axis=0)))\n",
        "print(\"Media distribuzione scalata: {}\".format(np.mean(x_tr_scaled, axis=0)))\n",
        "\n",
        "print(\"Deviazione standard distribuzione di partenza: {}\".format(np.std(x_tr_df, axis=0)))\n",
        "print(\"Deviazione standard distribuzione scalata: {}\".format(np.std(x_tr_scaled, axis=0)))\n",
        "\n",
        "print(\"Media distribuzione di partenza: {}\".format(np.mean(x_ts_df, axis=0)))\n",
        "print(\"Media distribuzione scalata: {}\".format(np.mean(x_ts_scaled, axis=0)))\n",
        "\n",
        "print(\"Deviazione standard distribuzione di partenza: {}\".format(np.std(x_ts_df, axis=0)))\n",
        "print(\"Deviazione standard distribuzione scalata: {}\".format(np.std(x_ts_scaled, axis=0)))"
      ],
      "metadata": {
        "id": "M7uWPVo-JsD0"
      },
      "execution_count": null,
      "outputs": []
    },
    {
      "cell_type": "code",
      "source": [
        "# BALANCING: oversampling\n",
        "\n",
        "#balancer = SMOTE()\n",
        "#x_tr_balanced, y_tr_balanced = balancer.fit_resample(x_tr_scaled, y_tr)"
      ],
      "metadata": {
        "id": "GTFoLnQsSn_4"
      },
      "execution_count": 60,
      "outputs": []
    },
    {
      "cell_type": "code",
      "source": [
        "# ANOMALY DETECTION CON ISOLATION FOREST\n",
        "print(\"Initial distribution\")\n",
        "print(len(x_tr))\n",
        "print(np.unique(y_tr, return_counts=True)[1]/len(y_tr))\n",
        "\n",
        "anomaly_detector = IsolationForest()\n",
        "anomaly_detector.fit(x_tr_scaled)\n",
        "is_inlier = anomaly_detector.predict(x_tr_scaled)\n",
        "\n",
        "print(np.unique(is_inlier, return_counts=True))\n",
        "x_tr_not_anomalous = x_tr_scaled[is_inlier==1,:]\n",
        "y_tr_not_anomalous = y_tr[is_inlier==1]\n",
        "\n",
        "print(\"Distribution after anomaly detection\")\n",
        "print(len(x_tr_not_anomalous))\n",
        "print(np.unique(y_tr_not_anomalous, return_counts=True)[1]/len(y_tr_not_anomalous))"
      ],
      "metadata": {
        "id": "2YcUIH8MQdu6"
      },
      "execution_count": null,
      "outputs": []
    },
    {
      "cell_type": "code",
      "source": [
        "# BALANCING: undersampling\n",
        "n_classes = len(np.unique(y_tr))\n",
        "fig, ax = plt.subplots()\n",
        "sizes = [len(y_tr[y_tr==i]) for i in range(n_classes)]\n",
        "class_names = [chr(ord('A')+i) for i in range(n_classes)]\n",
        "\n",
        "ax.pie(sizes, labels=class_names, autopct='%1.1f%%',shadow=True,startangle=90)\n",
        "ax.axis(\"equal\")\n",
        "plt.show()\n",
        "\n",
        "sampler = ClusterCentroids(random_state=42)\n",
        "x_tr_balanced, y_tr_balanced = sampler.fit_resample(x_tr_not_anomalous, y_tr_not_anomalous)\n",
        "\n",
        "print(\"Size del dataset prima del sampler: {}\".format(x_tr_not_anomalous.shape[0]))\n",
        "print(\"Size del dataset dopo il sampler: {}\".format(x_tr_balanced.shape[0]))\n",
        "\n",
        "fig, ax = plt.subplots()\n",
        "sizes = [len(y_tr_balanced[y_tr_balanced==i]) for i in range(n_classes)]\n",
        "class_names = [chr(ord('A')+i) for i in range(n_classes)]\n",
        "\n",
        "ax.pie(sizes, labels=class_names, autopct='%1.1f%%',shadow=True,startangle=90)\n",
        "ax.axis(\"equal\")\n",
        "plt.show()"
      ],
      "metadata": {
        "id": "QlW1TnvrPSgQ"
      },
      "execution_count": null,
      "outputs": []
    },
    {
      "cell_type": "code",
      "source": [
        "\n",
        "def train_evaluate(model, x_tr, y_tr, x_ts, y_ts):\n",
        "  model.fit(x_tr, y_tr)\n",
        "  y_tr_pred = model.predict(x_tr)\n",
        "  y_ts_pred = model.predict(x_ts)\n",
        "  print(\"Accuracy on training set {}\".format(accuracy_score(y_tr, y_tr_pred)))\n",
        "  print(\"F1 score on training set {}\".format(f1_score(y_tr, y_tr_pred)))\n",
        "  print(confusion_matrix(y_tr, y_tr_pred))\n",
        "  print(\"Accuracy on test set {}\".format(accuracy_score(y_ts, y_ts_pred)))\n",
        "  print(\"F1 score on test set {}\".format(f1_score(y_ts, y_ts_pred)))\n",
        "  print(confusion_matrix(y_ts, y_ts_pred))\n",
        "print(\"******* SVC\")\n",
        "classifier = SVC(kernel='rbf', C = 0.4)\n",
        "print(\"Training on scaled data\")\n",
        "train_evaluate(classifier, x_tr_scaled, y_tr, x_ts_scaled, y_ts)\n",
        "print(\"******* SVC\")\n",
        "\n",
        "classifier = SVC(kernel='rbf', C = 0.4)\n",
        "print(\"Training on balanced data\")\n",
        "train_evaluate(classifier, x_tr_balanced, y_tr_balanced, x_ts_scaled, y_ts)\n",
        "print(\"******* SVC\")\n",
        "\n",
        "classifier = SVC(kernel='rbf', C = 0.4)\n",
        "print(\"Training on not anomalous data\")\n",
        "train_evaluate(classifier, x_tr_not_anomalous, y_tr_not_anomalous, x_ts_scaled, y_ts)\n"
      ],
      "metadata": {
        "id": "Oc1nkG48IwOH"
      },
      "execution_count": null,
      "outputs": []
    },
    {
      "cell_type": "code",
      "source": [
        "# CLASSIFICATION: DECISION TREES\n",
        "print(\"******* DecisionTreeClassifier\")\n",
        "classifier = DecisionTreeClassifier(criterion=\"gini\", max_depth=5)\n",
        "train_evaluate(classifier, x_tr_not_anomalous, y_tr_not_anomalous, x_ts_scaled, y_ts)"
      ],
      "metadata": {
        "colab": {
          "base_uri": "https://localhost:8080/"
        },
        "id": "8Cno494TE1fp",
        "outputId": "4d29ab1c-afc6-4160-fa4a-3cb263a66b39"
      },
      "execution_count": 63,
      "outputs": [
        {
          "output_type": "stream",
          "name": "stdout",
          "text": [
            "******* DecisionTreeClassifier\n",
            "Accuracy on training set 0.846704048743874\n",
            "F1 score on training set 0.6131907308377896\n",
            "[[16425   764]\n",
            " [ 2708  2752]]\n",
            "Accuracy on test set 0.846043607329307\n",
            "F1 score on test set 0.6125708397733127\n",
            "[[7076  341]\n",
            " [1163 1189]]\n"
          ]
        }
      ]
    },
    {
      "cell_type": "code",
      "source": [
        "# CLASSIFICATION: METODI ENSEMBLE\n",
        "print(\"******* RandomForestClassifier\")\n",
        "classifier = RandomForestClassifier(max_depth=5, n_estimators=100)\n",
        "train_evaluate(classifier, x_tr_not_anomalous, y_tr_not_anomalous, x_ts_scaled, y_ts)\n",
        "print(\"******* GradientBoostingClassifier\")\n",
        "classifier = GradientBoostingClassifier(max_depth=5, n_estimators=100)\n",
        "train_evaluate(classifier, x_tr_not_anomalous, y_tr_not_anomalous, x_ts_scaled, y_ts)\n",
        "print(\"******* AdaBoostClassifier\")\n",
        "classifier = AdaBoostClassifier(n_estimators=100)\n",
        "train_evaluate(classifier, x_tr_not_anomalous, y_tr_not_anomalous, x_ts_scaled, y_ts)"
      ],
      "metadata": {
        "colab": {
          "base_uri": "https://localhost:8080/"
        },
        "id": "fTkCvE8sFpKN",
        "outputId": "99d7ece6-660b-4cbd-adb6-b0d23517df4c"
      },
      "execution_count": 65,
      "outputs": [
        {
          "output_type": "stream",
          "name": "stdout",
          "text": [
            "******* RandomForestClassifier\n",
            "Accuracy on training set 0.8396838712525939\n",
            "F1 score on training set 0.5638438438438438\n",
            "[[16671   518]\n",
            " [ 3113  2347]]\n",
            "Accuracy on test set 0.8414371993039206\n",
            "F1 score on test set 0.5761969904240766\n",
            "[[7167  250]\n",
            " [1299 1053]]\n",
            "******* GradientBoostingClassifier\n",
            "Accuracy on training set 0.8846306680206631\n",
            "F1 score on training set 0.7384646181563407\n",
            "[[16347   842]\n",
            " [ 1771  3689]]\n",
            "Accuracy on test set 0.8741938785955574\n",
            "F1 score on test set 0.7174063002989192\n",
            "[[6980  437]\n",
            " [ 792 1560]]\n",
            "******* AdaBoostClassifier\n",
            "Accuracy on training set 0.8646739370391628\n",
            "F1 score on training set 0.686893451833691\n",
            "[[16222   967]\n",
            " [ 2098  3362]]\n",
            "Accuracy on test set 0.8662094380182209\n",
            "F1 score on test set 0.6926875146955092\n",
            "[[6989  428]\n",
            " [ 879 1473]]\n"
          ]
        }
      ]
    }
  ]
}