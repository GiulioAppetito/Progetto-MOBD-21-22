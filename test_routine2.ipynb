{
  "nbformat": 4,
  "nbformat_minor": 0,
  "metadata": {
    "colab": {
      "name": "test_routine.ipynb",
      "provenance": [],
      "collapsed_sections": [],
      "authorship_tag": "ABX9TyPwhD2ag5rl0xb0VMSrhXCX",
      "include_colab_link": true
    },
    "kernelspec": {
      "name": "python3",
      "display_name": "Python 3"
    },
    "language_info": {
      "name": "python"
    }
  },
  "cells": [
    {
      "cell_type": "markdown",
      "metadata": {
        "id": "view-in-github",
        "colab_type": "text"
      },
      "source": [
        "<a href=\"https://colab.research.google.com/github/GiulioAppetito/Progetto_MOBD_2122/blob/main/test_routine2.ipynb\" target=\"_parent\"><img src=\"https://colab.research.google.com/assets/colab-badge.svg\" alt=\"Open In Colab\"/></a>"
      ]
    },
    {
      "cell_type": "code",
      "source": [
        "from google.colab import drive\n",
        "drive.mount('/content/drive')"
      ],
      "metadata": {
        "id": "EuV7lzE1AwhS",
        "colab": {
          "base_uri": "https://localhost:8080/"
        },
        "outputId": "6ee129a1-438f-47cc-b714-32a3b18a2c90"
      },
      "execution_count": null,
      "outputs": [
        {
          "output_type": "stream",
          "name": "stdout",
          "text": [
            "Mounted at /content/drive\n"
          ]
        }
      ]
    },
    {
      "cell_type": "code",
      "source": [
        "%cd /content/drive/My\\ Drive/ProgettoMOBD"
      ],
      "metadata": {
        "id": "pj1mRrEoA566",
        "colab": {
          "base_uri": "https://localhost:8080/"
        },
        "outputId": "ece08742-49be-4219-a2f0-6421293fc528"
      },
      "execution_count": null,
      "outputs": [
        {
          "output_type": "stream",
          "name": "stdout",
          "text": [
            "/content/drive/My Drive/ProgettoMOBD\n"
          ]
        }
      ]
    },
    {
      "cell_type": "code",
      "source": [
        "import sklearn\n",
        "import pandas as pd\n",
        "import numpy as np\n",
        "\n",
        "from sklearn.preprocessing import OneHotEncoder\n",
        "from sklearn.model_selection import train_test_split, GridSearchCV\n",
        "from sklearn.ensemble import GradientBoostingClassifier\n",
        "from sklearn.impute import SimpleImputer, KNNImputer\n",
        "from sklearn.preprocessing import RobustScaler\n",
        "from imblearn.under_sampling import RandomUnderSampler, ClusterCentroids\n",
        "from sklearn import tree\n",
        "from sklearn.pipeline import Pipeline\n",
        "from sklearn.metrics import accuracy_score, confusion_matrix, precision_score, recall_score, f1_score\n",
        "\n",
        "from joblib import load\n",
        "\n",
        "np.random.seed = 123456"
      ],
      "metadata": {
        "id": "Ci4dV5gsRj6X"
      },
      "execution_count": 104,
      "outputs": []
    },
    {
      "cell_type": "code",
      "source": [
        "# LETTURA TRAINING SET\n",
        "train = pd.read_csv(\"train.csv\", sep=\",\")\n",
        "print(train.shape)\n",
        "\n",
        "# QUI LETTURA DEL SUO TEST SET\n",
        "adult = pd.read_csv(\"adult.csv\", sep=\",\")\n",
        "print(adult.shape)"
      ],
      "metadata": {
        "id": "vAAaTn_xC1Tg",
        "colab": {
          "base_uri": "https://localhost:8080/"
        },
        "outputId": "bbfd33a3-a302-43ae-867c-3af94922ffd3"
      },
      "execution_count": 88,
      "outputs": [
        {
          "output_type": "stream",
          "name": "stdout",
          "text": [
            "(32561, 15)\n",
            "(48842, 15)\n"
          ]
        }
      ]
    },
    {
      "cell_type": "code",
      "source": [
        "test = pd.concat([adult,train]).drop_duplicates(keep=False)\n",
        "\n",
        "test['F13'] = test['F13'].replace(['USA','Jamaica','Caribbean','Cuba','Dominican-Republic','Guatemala','Haiti','Honduras'],'America')\n",
        "#data['F13'] = data['F13'].replace(['South','Columbia','Ecuador','Peru'],'America S')\n",
        "test['F13'] = test['F13'].replace(['Nicaragua','El-Salvador','Puerto-Rico','Mexico','Canada','South','Columbia','Ecuador','Peru','England','France','Germany','Greece','Hungary','Ireland','Italy','Netherlands','Poland','Portugal','Scotland','Yugoslavia','Cambodia','China','Hong','India','Iran','Japan','Philippines','Taiwan','Vietnam','Thailand','Laos'],'non america')\n",
        "#data['F13'] = data['F13'].replace(['England','France','Germany','Greece','Hungary','Ireland','Italy','Netherlands','Poland','Portugal','Scotland','Yugoslavia'],'Europe')\n",
        "\n",
        "print(test.head())\n"
      ],
      "metadata": {
        "id": "7wxslznyx811"
      },
      "execution_count": null,
      "outputs": []
    },
    {
      "cell_type": "code",
      "source": [
        "import dill\n",
        "import cloudpickle\n",
        "\n",
        "with open('preprocessor.pkl', 'rb') as in_file:\n",
        "    preprocessor = dill.load(in_file)\n",
        "\n",
        "preprocessor.transform(test)"
      ],
      "metadata": {
        "id": "X3kYw6Tt64iJ"
      },
      "execution_count": 110,
      "outputs": []
    },
    {
      "cell_type": "code",
      "execution_count": 67,
      "metadata": {
        "id": "1e8HplnU9QOm",
        "colab": {
          "base_uri": "https://localhost:8080/"
        },
        "outputId": "79ed593a-556f-4544-acde-1cdf96801a23"
      },
      "outputs": [
        {
          "output_type": "stream",
          "name": "stdout",
          "text": [
            "Accuracy on test set 0.8714303298867553\n",
            "\n",
            "F1 score on test set 0.7067246946511302\n",
            "[[11642   764]\n",
            " [ 1325  2517]]\n"
          ]
        }
      ],
      "source": [
        "classifier = load('classifier.joblib')\n",
        "\n",
        "y_ts_pred = classifier.predict(x_ts_scaled)\n",
        "\n",
        "print(\"Accuracy on test set {}\\n\".format(accuracy_score(y_test, y_ts_pred)))\n",
        "print(\"F1 score on test set {}\".format(f1_score(y_test, y_ts_pred)))\n",
        "print(confusion_matrix(y_test, y_ts_pred))"
      ]
    }
  ]
}