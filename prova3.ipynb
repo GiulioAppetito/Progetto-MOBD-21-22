{
  "nbformat": 4,
  "nbformat_minor": 0,
  "metadata": {
    "colab": {
      "name": "Untitled0.ipynb",
      "provenance": [],
      "collapsed_sections": [],
      "include_colab_link": true
    },
    "kernelspec": {
      "name": "python3",
      "display_name": "Python 3"
    },
    "language_info": {
      "name": "python"
    }
  },
  "cells": [
    {
      "cell_type": "markdown",
      "metadata": {
        "id": "view-in-github",
        "colab_type": "text"
      },
      "source": [
        "<a href=\"https://colab.research.google.com/github/GiulioAppetito/Progetto_MOBD_2122/blob/main/prova3.ipynb\" target=\"_parent\"><img src=\"https://colab.research.google.com/assets/colab-badge.svg\" alt=\"Open In Colab\"/></a>"
      ]
    },
    {
      "cell_type": "code",
      "execution_count": 6,
      "metadata": {
        "colab": {
          "base_uri": "https://localhost:8080/"
        },
        "id": "Dn_vjC4iSuRW",
        "outputId": "b75523ed-31ea-4034-9348-a51abdf6b7e4"
      },
      "outputs": [
        {
          "output_type": "stream",
          "name": "stdout",
          "text": [
            "Mounted at /content/drive\n"
          ]
        }
      ],
      "source": [
        "from google.colab import drive\n",
        "drive.mount('/content/drive')"
      ]
    },
    {
      "cell_type": "code",
      "source": [
        "%cd /content/drive/My\\ Drive/ProgettoMOBD"
      ],
      "metadata": {
        "colab": {
          "base_uri": "https://localhost:8080/"
        },
        "id": "fTRrYnQDTEMh",
        "outputId": "89f8b7ba-46b2-40ca-abf7-736589182e6a"
      },
      "execution_count": 7,
      "outputs": [
        {
          "output_type": "stream",
          "name": "stdout",
          "text": [
            "/content/drive/My Drive/ProgettoMOBD\n"
          ]
        }
      ]
    },
    {
      "cell_type": "code",
      "source": [
        "import sklearn\n",
        "import pandas as pd\n",
        "import numpy as np\n",
        "\n",
        "from sklearn.preprocessing import OneHotEncoder\n",
        "from sklearn.model_selection import train_test_split, GridSearchCV\n",
        "from sklearn.pipeline import Pipeline\n",
        "from sklearn.experimental import enable_iterative_imputer\n",
        "from sklearn_pandas import CategoricalImputer\n",
        "from sklearn.ensemble import IsolationForest, RandomForestClassifier, GradientBoostingClassifier, AdaBoostClassifier\n",
        "from sklearn.impute import SimpleImputer, IterativeImputer, KNNImputer\n",
        "from sklearn.preprocessing import StandardScaler, MinMaxScaler, MaxAbsScaler, RobustScaler\n",
        "from sklearn.svm import SVC, LinearSVC\n",
        "from imblearn.under_sampling import RandomUnderSampler, ClusterCentroids\n",
        "from imblearn.over_sampling import RandomOverSampler, SMOTE\n",
        "from sklearn.tree import DecisionTreeClassifier,export_graphviz\n",
        "from sklearn import tree\n",
        "import graphviz\n",
        "import matplotlib.pyplot as plt\n",
        "from sklearn.metrics import accuracy_score, confusion_matrix, precision_score, recall_score, f1_score\n",
        "\n",
        "np.random.seed = 123"
      ],
      "metadata": {
        "id": "xsl9cpj0TdP-"
      },
      "execution_count": 59,
      "outputs": []
    },
    {
      "cell_type": "code",
      "source": [
        "# LETTURA DATASET\n",
        "data = pd.read_csv(\"train.csv\", sep=\",\")\n",
        "print(data.head())\n",
        "# print(\"\\nLabels: {}\".format(np.unique(data.Y, return_counts=True)))\n",
        "\n",
        "# print(\"\\n# of NaNs values for each column:\")\n",
        "# print(data.isnull().sum(axis=0))\n",
        "\n",
        "x = data.iloc[:, :-1].to_numpy()\n",
        "y = data.iloc[:, -1].to_numpy()\n",
        "# print(x.shape)\n",
        "# print(y.shape)\n",
        "\n",
        "# stratify: to mantain the same mean as y for y_tr and y_ts\n",
        "x_tr, x_ts, y_tr, y_ts = train_test_split(x, y, test_size=0.3, random_state=258, stratify=y)\n",
        "\n",
        "# print(x_tr.shape)\n",
        "# print(y_tr.shape)\n",
        "# print(x_ts.shape)\n",
        "# print(y_ts.shape)\n",
        "\n",
        "print(np.unique(y, return_counts=True)[1]/len(y))\n",
        "print(np.unique(y_tr, return_counts=True)[1]/len(y_tr))\n",
        "print(np.unique(y_ts, return_counts=True)[1]/len(y_ts))"
      ],
      "metadata": {
        "id": "2AaafCLmf8zf",
        "colab": {
          "base_uri": "https://localhost:8080/"
        },
        "outputId": "478e943e-ba85-49d6-a666-c08cd496006b"
      },
      "execution_count": 60,
      "outputs": [
        {
          "output_type": "stream",
          "name": "stdout",
          "text": [
            "   F0  F1      F2  F3  F4  F5  F6  F7         F8      F9   F10  F11  F12  \\\n",
            "0  39  K1   77516  R1  13  Q1  P1  M1  caucasian    Male  2174    0   40   \n",
            "1  50  K2   83311  R1  13  Q2  P2  M2  caucasian    Male     0    0   13   \n",
            "2  38  K3  215646  R2   9  Q3  P3  M1  caucasian    Male     0    0   40   \n",
            "3  53  K3  234721  R3   7  Q2  P3  M2      black    Male     0    0   40   \n",
            "4  28  K3  338409  R1  13  Q2  P4  M3      black  Female     0    0   40   \n",
            "\n",
            "    F13  Y  \n",
            "0   USA  0  \n",
            "1   USA  0  \n",
            "2   USA  0  \n",
            "3   USA  0  \n",
            "4  Cuba  0  \n",
            "[0.75919044 0.24080956]\n",
            "[0.75916988 0.24083012]\n",
            "[0.75923841 0.24076159]\n"
          ]
        }
      ]
    },
    {
      "cell_type": "code",
      "source": [
        "# valori nan\n",
        "imp = SimpleImputer(missing_values=np.nan, strategy = 'most_frequent')\n",
        "x_tr_notnan = imp.fit_transform(x_tr)\n",
        "x_ts_notnan = imp.transform(x_ts)\n",
        "\n",
        "#gestione features categoriche\n",
        "#dato che però questi sono ndarrays, per fare la one hot coded technique dobbiamo usare dataframes\n",
        "\n",
        "x_tr_df = pd.DataFrame(x_tr_notnan)\n",
        "x_ts_df = pd.DataFrame(x_ts_notnan)\n",
        "\n",
        "x_tr_df.columns=['F0','F1','F2','F3','F4','F5','F6','F7','F8','F9','F10','F11','F12','F13']\n",
        "x_ts_df.columns=['F0','F1','F2','F3','F4','F5','F6','F7','F8','F9','F10','F11','F12','F13']\n",
        "\n",
        "# one hot code\n",
        "\n",
        "final_df_tr = pd.concat([x_tr_df,pd.get_dummies(x_tr_df['F1'])],axis = 1)\n",
        "final_df_tr.drop('F1', axis=1, inplace=True)\n",
        "\n",
        "final_df_tr = pd.concat([final_df_tr,pd.get_dummies(final_df_tr['F7'])],axis = 1)\n",
        "final_df_tr.drop('F7', axis=1, inplace=True)\n",
        "\n",
        "final_df = pd.concat([final_df_tr,pd.get_dummies(final_df_tr['F9'])],axis = 1)\n",
        "final_df_tr.drop('F9', axis=1, inplace=True)\n",
        "\n",
        "final_df_tr = pd.concat([final_df_tr,pd.get_dummies(final_df_tr['F8'])],axis = 1)\n",
        "final_df_tr.drop('F8', axis=1, inplace=True)\n",
        "\n",
        "final_df_tr = pd.concat([final_df_tr,pd.get_dummies(final_df_tr['F5'])],axis = 1)\n",
        "final_df_tr.drop('F5', axis=1, inplace=True)\n",
        "\n",
        "final_df_tr = pd.concat([final_df_tr,pd.get_dummies(final_df_tr['F6'])],axis = 1)\n",
        "final_df_tr.drop('F6', axis=1, inplace=True)\n",
        "\n",
        "final_df_tr = pd.concat([final_df_tr,pd.get_dummies(final_df_tr['F13'])],axis = 1)\n",
        "final_df_tr.drop('F13', axis=1, inplace=True)\n",
        "\n",
        "final_df_tr.drop('F3', axis=1, inplace=True)\n",
        "\n",
        "####################################\n",
        "\n",
        "final_df_ts = pd.concat([x_ts_df,pd.get_dummies(x_ts_df['F1'])],axis = 1)\n",
        "final_df_ts.drop('F1', axis=1, inplace=True)\n",
        "\n",
        "final_df_ts = pd.concat([final_df_ts,pd.get_dummies(final_df_ts['F7'])],axis = 1)\n",
        "final_df_ts.drop('F7', axis=1, inplace=True)\n",
        "\n",
        "final_df_ts = pd.concat([final_df_ts,pd.get_dummies(final_df_ts['F9'])],axis = 1)\n",
        "final_df_ts.drop('F9', axis=1, inplace=True)\n",
        "\n",
        "final_df_ts = pd.concat([final_df_ts,pd.get_dummies(final_df_ts['F8'])],axis = 1)\n",
        "final_df_ts.drop('F8', axis=1, inplace=True)\n",
        "\n",
        "final_df_ts = pd.concat([final_df_ts,pd.get_dummies(final_df_ts['F5'])],axis = 1)\n",
        "final_df_ts.drop('F5', axis=1, inplace=True)\n",
        "\n",
        "final_df_ts = pd.concat([final_df_ts,pd.get_dummies(final_df_ts['F6'])],axis = 1)\n",
        "final_df_ts.drop('F6', axis=1, inplace=True)\n",
        "\n",
        "final_df_ts = pd.concat([final_df_ts,pd.get_dummies(final_df_ts['F13'])],axis = 1)\n",
        "final_df_ts.drop('F13', axis=1, inplace=True)\n",
        "\n",
        "final_df_ts.drop('F3', axis=1, inplace=True)\n",
        "\n",
        "print(final_df_tr.head())\n",
        "\n",
        "print(final_df_ts.head())\n"
      ],
      "metadata": {
        "colab": {
          "base_uri": "https://localhost:8080/",
          "height": 235
        },
        "id": "eZ16glfaSw3K",
        "outputId": "17b9e354-9a21-4bd2-cbdc-4d9d6fbf5559"
      },
      "execution_count": 3,
      "outputs": [
        {
          "output_type": "error",
          "ename": "NameError",
          "evalue": "ignored",
          "traceback": [
            "\u001b[0;31m---------------------------------------------------------------------------\u001b[0m",
            "\u001b[0;31mNameError\u001b[0m                                 Traceback (most recent call last)",
            "\u001b[0;32m<ipython-input-3-c083de413785>\u001b[0m in \u001b[0;36m<module>\u001b[0;34m()\u001b[0m\n\u001b[1;32m      1\u001b[0m \u001b[0;31m# valori nan\u001b[0m\u001b[0;34m\u001b[0m\u001b[0;34m\u001b[0m\u001b[0;34m\u001b[0m\u001b[0m\n\u001b[0;32m----> 2\u001b[0;31m \u001b[0mimp\u001b[0m \u001b[0;34m=\u001b[0m \u001b[0mSimpleImputer\u001b[0m\u001b[0;34m(\u001b[0m\u001b[0mmissing_values\u001b[0m\u001b[0;34m=\u001b[0m\u001b[0mnp\u001b[0m\u001b[0;34m.\u001b[0m\u001b[0mnan\u001b[0m\u001b[0;34m,\u001b[0m \u001b[0mstrategy\u001b[0m \u001b[0;34m=\u001b[0m \u001b[0;34m'most_frequent'\u001b[0m\u001b[0;34m)\u001b[0m\u001b[0;34m\u001b[0m\u001b[0;34m\u001b[0m\u001b[0m\n\u001b[0m\u001b[1;32m      3\u001b[0m \u001b[0mx_tr_notnan\u001b[0m \u001b[0;34m=\u001b[0m \u001b[0mimp\u001b[0m\u001b[0;34m.\u001b[0m\u001b[0mfit_transform\u001b[0m\u001b[0;34m(\u001b[0m\u001b[0mx_tr\u001b[0m\u001b[0;34m)\u001b[0m\u001b[0;34m\u001b[0m\u001b[0;34m\u001b[0m\u001b[0m\n\u001b[1;32m      4\u001b[0m \u001b[0mx_ts_notnan\u001b[0m \u001b[0;34m=\u001b[0m \u001b[0mimp\u001b[0m\u001b[0;34m.\u001b[0m\u001b[0mtransform\u001b[0m\u001b[0;34m(\u001b[0m\u001b[0mx_ts\u001b[0m\u001b[0;34m)\u001b[0m\u001b[0;34m\u001b[0m\u001b[0;34m\u001b[0m\u001b[0m\n\u001b[1;32m      5\u001b[0m \u001b[0;34m\u001b[0m\u001b[0m\n",
            "\u001b[0;31mNameError\u001b[0m: name 'SimpleImputer' is not defined"
          ]
        }
      ]
    },
    {
      "cell_type": "code",
      "source": [
        "# SCALING\n",
        "print(\"Robust Scaler\")\n",
        "scaler = RobustScaler()\n",
        "x_tr_scaled = scaler.fit_transform(final_df_tr)\n",
        "#x_ts_scaled = scaler.transform(x_ts_notnan)\n",
        "\n",
        "print(\"Media distribuzione di partenza: {}\".format(np.mean(x_tr_notnan, axis=0)))\n",
        "print(\"Media distribuzione scalata: {}\".format(np.mean(x_tr_scaled, axis=0)))\n",
        "\n",
        "print(\"Deviazione standard distribuzione di partenza: {}\".format(np.std(x_tr_notnan, axis=0)))\n",
        "print(\"Deviazione standard distribuzione scalata: {}\".format(np.std(x_tr_scaled, axis=0)))\n",
        "\n",
        "print(\"Media distribuzione di partenza: {}\".format(np.mean(x_ts_notnan, axis=0)))\n",
        "print(\"Media distribuzione scalata: {}\".format(np.mean(x_ts_scaled, axis=0)))\n",
        "\n",
        "print(\"Deviazione standard distribuzione di partenza: {}\".format(np.std(x_ts_notnan, axis=0)))\n",
        "print(\"Deviazione standard distribuzione scalata: {}\".format(np.std(x_ts_scaled, axis=0)))"
      ],
      "metadata": {
        "colab": {
          "base_uri": "https://localhost:8080/",
          "height": 252
        },
        "id": "M7uWPVo-JsD0",
        "outputId": "0b065000-63a9-49e4-a4f4-f80088a14d47"
      },
      "execution_count": 2,
      "outputs": [
        {
          "output_type": "stream",
          "name": "stdout",
          "text": [
            "Robust Scaler\n"
          ]
        },
        {
          "output_type": "error",
          "ename": "NameError",
          "evalue": "ignored",
          "traceback": [
            "\u001b[0;31m---------------------------------------------------------------------------\u001b[0m",
            "\u001b[0;31mNameError\u001b[0m                                 Traceback (most recent call last)",
            "\u001b[0;32m<ipython-input-2-3c92fa6db357>\u001b[0m in \u001b[0;36m<module>\u001b[0;34m()\u001b[0m\n\u001b[1;32m      1\u001b[0m \u001b[0;31m# SCALING\u001b[0m\u001b[0;34m\u001b[0m\u001b[0;34m\u001b[0m\u001b[0;34m\u001b[0m\u001b[0m\n\u001b[1;32m      2\u001b[0m \u001b[0mprint\u001b[0m\u001b[0;34m(\u001b[0m\u001b[0;34m\"Robust Scaler\"\u001b[0m\u001b[0;34m)\u001b[0m\u001b[0;34m\u001b[0m\u001b[0;34m\u001b[0m\u001b[0m\n\u001b[0;32m----> 3\u001b[0;31m \u001b[0mscaler\u001b[0m \u001b[0;34m=\u001b[0m \u001b[0mRobustScaler\u001b[0m\u001b[0;34m(\u001b[0m\u001b[0;34m)\u001b[0m\u001b[0;34m\u001b[0m\u001b[0;34m\u001b[0m\u001b[0m\n\u001b[0m\u001b[1;32m      4\u001b[0m \u001b[0mx_tr_scaled\u001b[0m \u001b[0;34m=\u001b[0m \u001b[0mscaler\u001b[0m\u001b[0;34m.\u001b[0m\u001b[0mfit_transform\u001b[0m\u001b[0;34m(\u001b[0m\u001b[0mfinal_df_tr\u001b[0m\u001b[0;34m)\u001b[0m\u001b[0;34m\u001b[0m\u001b[0;34m\u001b[0m\u001b[0m\n\u001b[1;32m      5\u001b[0m \u001b[0mx_ts_scaled\u001b[0m \u001b[0;34m=\u001b[0m \u001b[0mscaler\u001b[0m\u001b[0;34m.\u001b[0m\u001b[0mtransform\u001b[0m\u001b[0;34m(\u001b[0m\u001b[0mfinal_df_ts\u001b[0m\u001b[0;34m)\u001b[0m\u001b[0;34m\u001b[0m\u001b[0;34m\u001b[0m\u001b[0m\n",
            "\u001b[0;31mNameError\u001b[0m: name 'RobustScaler' is not defined"
          ]
        }
      ]
    },
    {
      "cell_type": "code",
      "source": [
        "# ANOMALY DETECTION CON ISOLATION FOREST\n",
        "print(\"Initial distribution\")\n",
        "print(len(x_tr))\n",
        "print(np.unique(y_tr, return_counts=True)[1]/len(y_tr))\n",
        "\n",
        "anomaly_detector = IsolationForest()\n",
        "anomaly_detector.fit(x_tr_scaled)\n",
        "is_inlier = anomaly_detector.predict(x_tr_scaled)\n",
        "\n",
        "print(np.unique(is_inlier, return_counts=True))\n",
        "x_tr_not_anomalous = x_tr_scaled[is_inlier==1,:]\n",
        "y_tr_not_anomalous = y_tr_scaled[is_inlier==1]\n",
        "\n",
        "print(\"Distribution after anomaly detection\")\n",
        "print(len(x_tr_not_anomalous))\n",
        "print(np.unique(y_tr_not_anomalous, return_counts=True)[1]/len(y_tr_not_anomalous))"
      ],
      "metadata": {
        "id": "2YcUIH8MQdu6",
        "outputId": "b4b88e7d-2dcd-48ae-8be3-be923fa967ed",
        "colab": {
          "base_uri": "https://localhost:8080/",
          "height": 304
        }
      },
      "execution_count": 47,
      "outputs": [
        {
          "output_type": "stream",
          "name": "stdout",
          "text": [
            "Initial distribution\n",
            "22792\n",
            "[0.75916988 0.24083012]\n",
            "(array([-1,  1]), array([   77, 22715]))\n"
          ]
        },
        {
          "output_type": "error",
          "ename": "NameError",
          "evalue": "ignored",
          "traceback": [
            "\u001b[0;31m---------------------------------------------------------------------------\u001b[0m",
            "\u001b[0;31mNameError\u001b[0m                                 Traceback (most recent call last)",
            "\u001b[0;32m<ipython-input-47-b342f51301e1>\u001b[0m in \u001b[0;36m<module>\u001b[0;34m()\u001b[0m\n\u001b[1;32m     10\u001b[0m \u001b[0mprint\u001b[0m\u001b[0;34m(\u001b[0m\u001b[0mnp\u001b[0m\u001b[0;34m.\u001b[0m\u001b[0munique\u001b[0m\u001b[0;34m(\u001b[0m\u001b[0mis_inlier\u001b[0m\u001b[0;34m,\u001b[0m \u001b[0mreturn_counts\u001b[0m\u001b[0;34m=\u001b[0m\u001b[0;32mTrue\u001b[0m\u001b[0;34m)\u001b[0m\u001b[0;34m)\u001b[0m\u001b[0;34m\u001b[0m\u001b[0;34m\u001b[0m\u001b[0m\n\u001b[1;32m     11\u001b[0m \u001b[0mx_tr_not_anomalous\u001b[0m \u001b[0;34m=\u001b[0m \u001b[0mx_tr_scaled\u001b[0m\u001b[0;34m[\u001b[0m\u001b[0mis_inlier\u001b[0m\u001b[0;34m==\u001b[0m\u001b[0;36m1\u001b[0m\u001b[0;34m,\u001b[0m\u001b[0;34m:\u001b[0m\u001b[0;34m]\u001b[0m\u001b[0;34m\u001b[0m\u001b[0;34m\u001b[0m\u001b[0m\n\u001b[0;32m---> 12\u001b[0;31m \u001b[0my_tr_not_anomalous\u001b[0m \u001b[0;34m=\u001b[0m \u001b[0my_tr_scaled\u001b[0m\u001b[0;34m[\u001b[0m\u001b[0mis_inlier\u001b[0m\u001b[0;34m==\u001b[0m\u001b[0;36m1\u001b[0m\u001b[0;34m]\u001b[0m\u001b[0;34m\u001b[0m\u001b[0;34m\u001b[0m\u001b[0m\n\u001b[0m\u001b[1;32m     13\u001b[0m \u001b[0;34m\u001b[0m\u001b[0m\n\u001b[1;32m     14\u001b[0m \u001b[0mprint\u001b[0m\u001b[0;34m(\u001b[0m\u001b[0;34m\"Distribution after anomaly detection\"\u001b[0m\u001b[0;34m)\u001b[0m\u001b[0;34m\u001b[0m\u001b[0;34m\u001b[0m\u001b[0m\n",
            "\u001b[0;31mNameError\u001b[0m: name 'y_tr_scaled' is not defined"
          ]
        }
      ]
    },
    {
      "cell_type": "code",
      "source": [
        "# BALANCING\n",
        "n_classes = len(np.unique(y_tr))\n",
        "fig, ax = plt.subplots()\n",
        "sizes = [len(y_tr[y_tr==i]) for i in range(n_classes)]\n",
        "class_names = [chr(ord('A')+i) for i in range(n_classes)]\n",
        "\n",
        "ax.pie(sizes, labels=class_names, autopct='%1.1f%%',shadow=True,startangle=90)\n",
        "ax.axis(\"equal\")\n",
        "plt.show()\n",
        "\n",
        "sampler = RandomUnderSampler(random_state=42)\n",
        "x_tr_balanced, y_tr_balanced = sampler.fit_resample(x_tr_scaled, y_tr)\n",
        "\n",
        "print(\"Size del dataset prima del sampler: {}\".format(x_tr_scaled.shape[0]))\n",
        "print(\"Size del dataset dopo il sampler: {}\".format(x_tr_balanced.shape[0]))\n",
        "\n",
        "fig, ax = plt.subplots()\n",
        "sizes = [len(y_tr_balanced[y_tr_balanced==i]) for i in range(n_classes)]\n",
        "class_names = [chr(ord('A')+i) for i in range(n_classes)]\n",
        "\n",
        "ax.pie(sizes, labels=class_names, autopct='%1.1f%%',shadow=True,startangle=90)\n",
        "ax.axis(\"equal\")\n",
        "plt.show()"
      ],
      "metadata": {
        "id": "QlW1TnvrPSgQ",
        "outputId": "cbd7c32a-931b-4d6c-db7a-0254324e06a1",
        "colab": {
          "base_uri": "https://localhost:8080/",
          "height": 514
        }
      },
      "execution_count": 37,
      "outputs": [
        {
          "output_type": "display_data",
          "data": {
            "text/plain": [
              "<Figure size 432x288 with 1 Axes>"
            ],
            "image/png": "[encoded data removed]"
          },
          "metadata": {}
        },
        {
          "output_type": "stream",
          "name": "stdout",
          "text": [
            "Size del dataset prima del sampler: 22792\n",
            "Size del dataset dopo il sampler: 10978\n"
          ]
        },
        {
          "output_type": "display_data",
          "data": {
            "text/plain": [
              "<Figure size 432x288 with 1 Axes>"
            ],
            "image/png": "[encoded data removed]"
          },
          "metadata": {}
        }
      ]
    }
  ]
}