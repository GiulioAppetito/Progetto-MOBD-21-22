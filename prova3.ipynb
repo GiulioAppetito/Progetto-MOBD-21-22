{
  "nbformat": 4,
  "nbformat_minor": 0,
  "metadata": {
    "colab": {
      "name": "Untitled0.ipynb",
      "provenance": [],
      "collapsed_sections": [],
      "include_colab_link": true
    },
    "kernelspec": {
      "name": "python3",
      "display_name": "Python 3"
    },
    "language_info": {
      "name": "python"
    }
  },
  "cells": [
    {
      "cell_type": "markdown",
      "metadata": {
        "id": "view-in-github",
        "colab_type": "text"
      },
      "source": [
        "<a href=\"https://colab.research.google.com/github/GiulioAppetito/Progetto_MOBD_2122/blob/main/prova3.ipynb\" target=\"_parent\"><img src=\"https://colab.research.google.com/assets/colab-badge.svg\" alt=\"Open In Colab\"/></a>"
      ]
    },
    {
      "cell_type": "code",
      "execution_count": 6,
      "metadata": {
        "colab": {
          "base_uri": "https://localhost:8080/"
        },
        "id": "Dn_vjC4iSuRW",
        "outputId": "b75523ed-31ea-4034-9348-a51abdf6b7e4"
      },
      "outputs": [
        {
          "output_type": "stream",
          "name": "stdout",
          "text": [
            "Mounted at /content/drive\n"
          ]
        }
      ],
      "source": [
        "from google.colab import drive\n",
        "drive.mount('/content/drive')"
      ]
    },
    {
      "cell_type": "code",
      "source": [
        "%cd /content/drive/My\\ Drive/ProgettoMOBD"
      ],
      "metadata": {
        "colab": {
          "base_uri": "https://localhost:8080/"
        },
        "id": "fTRrYnQDTEMh",
        "outputId": "89f8b7ba-46b2-40ca-abf7-736589182e6a"
      },
      "execution_count": 7,
      "outputs": [
        {
          "output_type": "stream",
          "name": "stdout",
          "text": [
            "/content/drive/My Drive/ProgettoMOBD\n"
          ]
        }
      ]
    },
    {
      "cell_type": "code",
      "source": [
        "import sklearn\n",
        "import pandas as pd\n",
        "import numpy as np\n",
        "\n",
        "from sklearn.preprocessing import OneHotEncoder\n",
        "from sklearn.model_selection import train_test_split, GridSearchCV\n",
        "from sklearn.pipeline import Pipeline\n",
        "from sklearn.experimental import enable_iterative_imputer\n",
        "from sklearn_pandas import CategoricalImputer\n",
        "from sklearn.ensemble import IsolationForest, RandomForestClassifier, GradientBoostingClassifier, AdaBoostClassifier\n",
        "from sklearn.impute import SimpleImputer, IterativeImputer, KNNImputer\n",
        "from sklearn.preprocessing import StandardScaler, MinMaxScaler, MaxAbsScaler, RobustScaler\n",
        "from sklearn.svm import SVC, LinearSVC\n",
        "from imblearn.under_sampling import RandomUnderSampler, ClusterCentroids\n",
        "from imblearn.over_sampling import RandomOverSampler, SMOTE\n",
        "from sklearn.tree import DecisionTreeClassifier,export_graphviz\n",
        "from sklearn import tree\n",
        "import graphviz\n",
        "import matplotlib.pyplot as plt\n",
        "from sklearn.metrics import accuracy_score, confusion_matrix, precision_score, recall_score, f1_score\n",
        "\n",
        "np.random.seed = 123"
      ],
      "metadata": {
        "id": "xsl9cpj0TdP-"
      },
      "execution_count": 9,
      "outputs": []
    },
    {
      "cell_type": "code",
      "source": [
        "# LETTURA DATASET\n",
        "data = pd.read_csv(\"train.csv\", sep=\",\")\n",
        "print(data.head())\n",
        "# print(\"\\nLabels: {}\".format(np.unique(data.Y, return_counts=True)))\n",
        "\n",
        "# print(\"\\n# of NaNs values for each column:\")\n",
        "# print(data.isnull().sum(axis=0))\n",
        "\n",
        "x = data.iloc[:, :-1].to_numpy()\n",
        "y = data.iloc[:, -1].to_numpy()\n",
        "# print(x.shape)\n",
        "# print(y.shape)\n",
        "\n",
        "# stratify: to mantain the same mean as y for y_tr and y_ts\n",
        "x_tr, x_ts, y_tr, y_ts = train_test_split(x, y, test_size=0.3, random_state=258, stratify=y)\n",
        "\n",
        "# print(x_tr.shape)\n",
        "# print(y_tr.shape)\n",
        "# print(x_ts.shape)\n",
        "# print(y_ts.shape)\n",
        "\n",
        "# print(np.unique(y, return_counts=True)[1]/len(y))\n",
        "# print(np.unique(y_tr, return_counts=True)[1]/len(y_tr))\n",
        "# print(np.unique(y_ts, return_counts=True)[1]/len(y_ts))"
      ],
      "metadata": {
        "id": "2AaafCLmf8zf",
        "outputId": "ca15ef0c-ce87-4489-ba69-bb6f877f1f80",
        "colab": {
          "base_uri": "https://localhost:8080/"
        }
      },
      "execution_count": 10,
      "outputs": [
        {
          "output_type": "stream",
          "name": "stdout",
          "text": [
            "   F0  F1      F2  F3  F4  F5  F6  F7         F8      F9   F10  F11  F12  \\\n",
            "0  39  K1   77516  R1  13  Q1  P1  M1  caucasian    Male  2174    0   40   \n",
            "1  50  K2   83311  R1  13  Q2  P2  M2  caucasian    Male     0    0   13   \n",
            "2  38  K3  215646  R2   9  Q3  P3  M1  caucasian    Male     0    0   40   \n",
            "3  53  K3  234721  R3   7  Q2  P3  M2      black    Male     0    0   40   \n",
            "4  28  K3  338409  R1  13  Q2  P4  M3      black  Female     0    0   40   \n",
            "\n",
            "    F13  Y  \n",
            "0   USA  0  \n",
            "1   USA  0  \n",
            "2   USA  0  \n",
            "3   USA  0  \n",
            "4  Cuba  0  \n"
          ]
        }
      ]
    },
    {
      "cell_type": "code",
      "source": [
        "# valori nan\n",
        "imp = SimpleImputer(missing_values=np.nan, strategy = 'most_frequent')\n",
        "x_tr_notnan = imp.fit_transform(x_tr)\n",
        "x_ts_notnan = imp.transform(x_ts)\n",
        "\n",
        "#gestione features categoriche\n",
        "#dato che però questi sono ndarrays, per fare la one hot coded technique dobbiamo usare dataframes\n",
        "\n",
        "x_tr_df = pd.DataFrame(x_tr_notnan)\n",
        "x_ts_df = pd.DataFrame(x_ts_notnan)\n",
        "\n",
        "x_tr_df.columns=['F0','F1','F2','F3','F4','F5','F6','F7','F8','F9','F10','F11','F12','F13']\n",
        "x_ts_df.columns=['F0','F1','F2','F3','F4','F5','F6','F7','F8','F9','F10','F11','F12','F13']\n",
        "\n",
        "# one hot code\n",
        "\n",
        "final_df = pd.concat([x_tr_df,pd.get_dummies(x_tr_df['F1'])],axis = 1)\n",
        "final_df.drop('F1', axis=1, inplace=True)\n",
        "\n",
        "final_df = pd.concat([final_df,pd.get_dummies(final_df['F7'])],axis = 1)\n",
        "final_df.drop('F7', axis=1, inplace=True)\n",
        "\n",
        "final_df = pd.concat([final_df,pd.get_dummies(final_df['F9'])],axis = 1)\n",
        "final_df.drop('F9', axis=1, inplace=True)\n",
        "\n",
        "final_df = pd.concat([final_df,pd.get_dummies(final_df['F8'])],axis = 1)\n",
        "final_df.drop('F8', axis=1, inplace=True)\n",
        "\n",
        "final_df = pd.concat([final_df,pd.get_dummies(final_df['F5'])],axis = 1)\n",
        "final_df.drop('F5', axis=1, inplace=True)\n",
        "\n",
        "final_df = pd.concat([final_df,pd.get_dummies(final_df['F6'])],axis = 1)\n",
        "final_df.drop('F6', axis=1, inplace=True)\n",
        "\n",
        "final_df = pd.concat([final_df,pd.get_dummies(final_df['F13'])],axis = 1)\n",
        "final_df.drop('F13', axis=1, inplace=True)\n",
        "\n",
        "final_df.drop('F3', axis=1, inplace=True)\n",
        "\n",
        "print(final_df.head())\n"
      ],
      "metadata": {
        "colab": {
          "base_uri": "https://localhost:8080/"
        },
        "id": "eZ16glfaSw3K",
        "outputId": "aab281d2-8bb1-4d2b-b6b9-12236226f626"
      },
      "execution_count": 26,
      "outputs": [
        {
          "output_type": "stream",
          "name": "stdout",
          "text": [
            "   F0      F2  F4 F10 F11 F12  K1  K2  K3  K4  ...  Poland  Portugal  \\\n",
            "0  27  130067  10   0   0  65   0   0   1   0  ...       0         0   \n",
            "1  18  703067   7   0   0  20   0   0   1   0  ...       0         0   \n",
            "2  33  144949  13   0   0  65   0   0   0   0  ...       0         0   \n",
            "3  54  176681   9   0   0  20   0   0   1   0  ...       0         0   \n",
            "4  39  115076  10   0   0  40   0   0   1   0  ...       0         0   \n",
            "\n",
            "   Puerto-Rico  Scotland  South  Taiwan  Thailand  USA  Vietnam  Yugoslavia  \n",
            "0            0         0      0       0         0    1        0           0  \n",
            "1            0         0      0       0         0    1        0           0  \n",
            "2            0         0      0       0         0    1        0           0  \n",
            "3            0         0      0       0         0    1        0           0  \n",
            "4            0         0      0       0         0    1        0           0  \n",
            "\n",
            "[5 rows x 88 columns]\n"
          ]
        }
      ]
    }
  ]
}