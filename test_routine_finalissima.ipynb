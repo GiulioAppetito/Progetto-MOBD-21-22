{
  "nbformat": 4,
  "nbformat_minor": 0,
  "metadata": {
    "colab": {
      "name": "test_routine.ipynb",
      "provenance": [],
      "collapsed_sections": [],
      "authorship_tag": "ABX9TyP/4RCL6wwVKAMYzRP0/RDF",
      "include_colab_link": true
    },
    "kernelspec": {
      "name": "python3",
      "display_name": "Python 3"
    },
    "language_info": {
      "name": "python"
    }
  },
  "cells": [
    {
      "cell_type": "markdown",
      "metadata": {
        "id": "view-in-github",
        "colab_type": "text"
      },
      "source": [
        "<a href=\"https://colab.research.google.com/github/GiulioAppetito/Progetto_MOBD_2122/blob/main/test_routine_finalissima.ipynb\" target=\"_parent\"><img src=\"https://colab.research.google.com/assets/colab-badge.svg\" alt=\"Open In Colab\"/></a>"
      ]
    },
    {
      "cell_type": "code",
      "source": [
        "from google.colab import drive\n",
        "drive.mount('/content/drive')"
      ],
      "metadata": {
        "id": "EuV7lzE1AwhS",
        "colab": {
          "base_uri": "https://localhost:8080/"
        },
        "outputId": "2e0e9efe-08d0-48ad-a856-9de0c6b3f9a4"
      },
      "execution_count": 1,
      "outputs": [
        {
          "output_type": "stream",
          "name": "stdout",
          "text": [
            "Mounted at /content/drive\n"
          ]
        }
      ]
    },
    {
      "cell_type": "code",
      "source": [
        "%cd /content/drive/My\\ Drive/ProgettoMOBD"
      ],
      "metadata": {
        "id": "pj1mRrEoA566",
        "colab": {
          "base_uri": "https://localhost:8080/"
        },
        "outputId": "7d1c3fe3-a257-4c30-8972-3d336c4738a4"
      },
      "execution_count": 2,
      "outputs": [
        {
          "output_type": "stream",
          "name": "stdout",
          "text": [
            "/content/drive/My Drive/ProgettoMOBD\n"
          ]
        }
      ]
    },
    {
      "cell_type": "code",
      "source": [
        "import sklearn\n",
        "import pandas as pd\n",
        "import numpy as np\n",
        "\n",
        "from sklearn.preprocessing import OneHotEncoder\n",
        "from sklearn.model_selection import train_test_split, GridSearchCV\n",
        "from sklearn.ensemble import GradientBoostingClassifier\n",
        "from sklearn.impute import SimpleImputer, KNNImputer\n",
        "from sklearn.preprocessing import RobustScaler\n",
        "from imblearn.under_sampling import RandomUnderSampler, ClusterCentroids\n",
        "from sklearn import tree\n",
        "from sklearn.pipeline import Pipeline\n",
        "from sklearn.metrics import accuracy_score, confusion_matrix, precision_score, recall_score, f1_score\n",
        "\n",
        "from joblib import load\n",
        "\n",
        "np.random.seed = 123456"
      ],
      "metadata": {
        "id": "Ci4dV5gsRj6X"
      },
      "execution_count": 3,
      "outputs": []
    },
    {
      "cell_type": "code",
      "source": [
        "# LETTURA TRAINING SET\n",
        "train = pd.read_csv(\"train.csv\", sep=\",\")\n",
        "print(train.shape)\n",
        "\n",
        "# QUI LETTURA DEL SUO TEST SET\n",
        "adult = pd.read_csv(\"adult.csv\", sep=\",\")\n",
        "print(adult.shape)"
      ],
      "metadata": {
        "id": "vAAaTn_xC1Tg",
        "colab": {
          "base_uri": "https://localhost:8080/"
        },
        "outputId": "81ed99bc-0bba-48b1-925e-c7b6d620c61f"
      },
      "execution_count": 4,
      "outputs": [
        {
          "output_type": "stream",
          "name": "stdout",
          "text": [
            "(32561, 15)\n",
            "(48842, 15)\n"
          ]
        }
      ]
    },
    {
      "cell_type": "code",
      "source": [
        "test = pd.concat([adult,train]).drop_duplicates(keep=False)\n",
        "\n",
        "x_test = test.iloc[:, :-1].to_numpy()\n",
        "y_test = test.iloc[:, -1].to_numpy()\n",
        "\n",
        "print(x_test.shape)"
      ],
      "metadata": {
        "id": "QHp2mV5PXy0G",
        "colab": {
          "base_uri": "https://localhost:8080/"
        },
        "outputId": "d0711efc-4f6f-44e1-a9ab-32e4997bbab0"
      },
      "execution_count": 5,
      "outputs": [
        {
          "output_type": "stream",
          "name": "stdout",
          "text": [
            "(16248, 14)\n"
          ]
        }
      ]
    },
    {
      "cell_type": "code",
      "source": [
        "import dill\n",
        "import cloudpickle\n",
        "\n",
        "with open('preprocessor.pkl', 'rb') as in_file:\n",
        "    preprocessor = dill.load(in_file)\n",
        "\n",
        "x_test = preprocessor.transform(x_test)\n",
        "print(x_test.shape)\n"
      ],
      "metadata": {
        "id": "X3kYw6Tt64iJ",
        "colab": {
          "base_uri": "https://localhost:8080/"
        },
        "outputId": "0627e969-ac87-4d49-ff7e-86be3ff5b8b5"
      },
      "execution_count": 6,
      "outputs": [
        {
          "output_type": "stream",
          "name": "stdout",
          "text": [
            "(16248, 58)\n"
          ]
        },
        {
          "output_type": "stream",
          "name": "stderr",
          "text": [
            "/usr/local/lib/python3.7/dist-packages/sklearn/utils/validation.py:1692: FutureWarning: Feature names only support names that are all strings. Got feature names with dtypes: ['int', 'str']. An error will be raised in 1.2.\n",
            "  FutureWarning,\n"
          ]
        }
      ]
    },
    {
      "cell_type": "code",
      "execution_count": 14,
      "metadata": {
        "id": "1e8HplnU9QOm",
        "colab": {
          "base_uri": "https://localhost:8080/"
        },
        "outputId": "81100015-3cd2-4a91-fa87-6f2971067bf1"
      },
      "outputs": [
        {
          "output_type": "stream",
          "name": "stdout",
          "text": [
            "Accuracy on test set 0.8722304283604135\n",
            "\n",
            "F1 score on test set 0.7096503496503497\n",
            "\n",
            "[[11635   771]\n",
            " [ 1305  2537]]\n"
          ]
        }
      ],
      "source": [
        "classifier = load('classifier.joblib')\n",
        "\n",
        "y_ts_pred = classifier.predict(x_test)\n",
        "\n",
        "print(\"Accuracy on test set {}\\n\".format(accuracy_score(y_test, y_ts_pred)))\n",
        "print(\"F1 score on test set {}\\n\".format(f1_score(y_test, y_ts_pred)))\n",
        "print(confusion_matrix(y_test, y_ts_pred))"
      ]
    }
  ]
}