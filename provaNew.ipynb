{
  "nbformat": 4,
  "nbformat_minor": 0,
  "metadata": {
    "colab": {
      "name": "Untitled0.ipynb",
      "provenance": [],
      "collapsed_sections": [],
      "include_colab_link": true
    },
    "kernelspec": {
      "name": "python3",
      "display_name": "Python 3"
    },
    "language_info": {
      "name": "python"
    }
  },
  "cells": [
    {
      "cell_type": "markdown",
      "metadata": {
        "id": "view-in-github",
        "colab_type": "text"
      },
      "source": [
        "<a href=\"https://colab.research.google.com/github/GiulioAppetito/Progetto_MOBD_2122/blob/main/provaNew.ipynb\" target=\"_parent\"><img src=\"https://colab.research.google.com/assets/colab-badge.svg\" alt=\"Open In Colab\"/></a>"
      ]
    },
    {
      "cell_type": "code",
      "execution_count": 1,
      "metadata": {
        "colab": {
          "base_uri": "https://localhost:8080/"
        },
        "id": "Dn_vjC4iSuRW",
        "outputId": "45bf0cb4-7c33-4ac6-887b-e46feda16c3e"
      },
      "outputs": [
        {
          "output_type": "stream",
          "name": "stdout",
          "text": [
            "Mounted at /content/drive\n"
          ]
        }
      ],
      "source": [
        "from google.colab import drive\n",
        "drive.mount('/content/drive')"
      ]
    },
    {
      "cell_type": "code",
      "source": [
        "%cd /content/drive/My\\ Drive/ProgettoMOBD"
      ],
      "metadata": {
        "colab": {
          "base_uri": "https://localhost:8080/"
        },
        "id": "fTRrYnQDTEMh",
        "outputId": "26415a19-49ae-489e-fb93-1261ee338aae"
      },
      "execution_count": 49,
      "outputs": [
        {
          "output_type": "stream",
          "name": "stdout",
          "text": [
            "/content/drive/My Drive/ProgettoMOBD\n"
          ]
        }
      ]
    },
    {
      "cell_type": "code",
      "source": [
        "import sklearn\n",
        "import pandas as pd\n",
        "import numpy as np\n",
        "\n",
        "from sklearn.preprocessing import OneHotEncoder\n",
        "from sklearn.model_selection import train_test_split, GridSearchCV\n",
        "from sklearn.pipeline import Pipeline\n",
        "from sklearn.experimental import enable_iterative_imputer\n",
        "from sklearn_pandas import CategoricalImputer\n",
        "from sklearn.ensemble import IsolationForest, RandomForestClassifier, GradientBoostingClassifier, AdaBoostClassifier\n",
        "from sklearn.impute import SimpleImputer, IterativeImputer, KNNImputer\n",
        "from sklearn.preprocessing import StandardScaler, MinMaxScaler, MaxAbsScaler, RobustScaler\n",
        "from sklearn.svm import SVC, LinearSVC\n",
        "from imblearn.under_sampling import RandomUnderSampler, ClusterCentroids\n",
        "from imblearn.over_sampling import RandomOverSampler, SMOTE\n",
        "from sklearn.tree import DecisionTreeClassifier,export_graphviz\n",
        "from sklearn import tree\n",
        "import graphviz\n",
        "import matplotlib.pyplot as plt\n",
        "from sklearn.metrics import accuracy_score, confusion_matrix, precision_score, recall_score, f1_score\n",
        "\n",
        "np.random.seed = 123"
      ],
      "metadata": {
        "id": "xsl9cpj0TdP-"
      },
      "execution_count": 3,
      "outputs": []
    },
    {
      "cell_type": "code",
      "source": [
        "# LETTURA DATASET\n",
        "data = pd.read_csv(\"train.csv\", sep=\",\")\n",
        "print(data.head())\n",
        "# print(\"\\nLabels: {}\".format(np.unique(data.Y, return_counts=True)))\n",
        "\n",
        "# print(\"\\n# of NaNs values for each column:\")\n",
        "# print(data.isnull().sum(axis=0))\n",
        "\n",
        "x = data.iloc[:, :-1].to_numpy()\n",
        "y = data.iloc[:, -1].to_numpy()\n",
        "# print(x.shape)\n",
        "# print(y.shape)\n",
        "\n",
        "# stratify: to mantain the same mean as y for y_tr and y_ts\n",
        "x_tr, x_ts, y_tr, y_ts = train_test_split(x, y, test_size=0.2, random_state=352, stratify=y)\n",
        "\n",
        "# print(x_tr.shape)\n",
        "# print(y_tr.shape)\n",
        "# print(x_ts.shape)\n",
        "# print(y_ts.shape)\n",
        "\n",
        "print(np.unique(y, return_counts=True)[1]/len(y))\n",
        "print(np.unique(y_tr, return_counts=True)[1]/len(y_tr))\n",
        "print(np.unique(y_ts, return_counts=True)[1]/len(y_ts))"
      ],
      "metadata": {
        "id": "2AaafCLmf8zf",
        "colab": {
          "base_uri": "https://localhost:8080/"
        },
        "outputId": "d796940e-c2c6-40b2-c77d-96b947256661"
      },
      "execution_count": 115,
      "outputs": [
        {
          "output_type": "stream",
          "name": "stdout",
          "text": [
            "   F0  F1      F2  F3  F4  F5  F6  F7         F8      F9   F10  F11  F12  \\\n",
            "0  39  K1   77516  R1  13  Q1  P1  M1  caucasian    Male  2174    0   40   \n",
            "1  50  K2   83311  R1  13  Q2  P2  M2  caucasian    Male     0    0   13   \n",
            "2  38  K3  215646  R2   9  Q3  P3  M1  caucasian    Male     0    0   40   \n",
            "3  53  K3  234721  R3   7  Q2  P3  M2      black    Male     0    0   40   \n",
            "4  28  K3  338409  R1  13  Q2  P4  M3      black  Female     0    0   40   \n",
            "\n",
            "    F13  Y  \n",
            "0   USA  0  \n",
            "1   USA  0  \n",
            "2   USA  0  \n",
            "3   USA  0  \n",
            "4  Cuba  0  \n",
            "[0.75919044 0.24080956]\n",
            "[0.75917537 0.24082463]\n",
            "[0.75925073 0.24074927]\n"
          ]
        }
      ]
    },
    {
      "cell_type": "code",
      "source": [
        "# valori nan\n",
        "imp = SimpleImputer(missing_values=np.nan, strategy = 'most_frequent')\n",
        "x_tr_notnan = imp.fit_transform(x_tr)\n",
        "x_ts_notnan = imp.transform(x_ts)\n",
        "\n",
        "#gestione features categoriche\n",
        "#dato che però questi sono ndarrays, per fare la one hot coded technique dobbiamo usare dataframes\n",
        "\n",
        "x_tr_df = pd.DataFrame(x_tr_notnan)\n",
        "x_ts_df = pd.DataFrame(x_ts_notnan)\n",
        "\n",
        "x_tr_df.columns=['F0','F1','F2','F3','F4','F5','F6','F7','F8','F9','F10','F11','F12','F13']\n",
        "x_ts_df.columns=['F0','F1','F2','F3','F4','F5','F6','F7','F8','F9','F10','F11','F12','F13']\n",
        "\n",
        "# one hot code\n",
        "\n",
        "final_df_tr = pd.concat([x_tr_df,pd.get_dummies(x_tr_df['F1'])],axis = 1)\n",
        "final_df_tr.drop('F1', axis=1, inplace=True)\n",
        "\n",
        "final_df_tr = pd.concat([final_df_tr,pd.get_dummies(x_tr_df['F7'])],axis = 1)\n",
        "final_df_tr.drop('F7', axis=1, inplace=True)\n",
        "\n",
        "final_df_tr = pd.concat([final_df_tr,pd.get_dummies(x_tr_df['F9'])],axis = 1)\n",
        "final_df_tr.drop('F9', axis=1, inplace=True)\n",
        "\n",
        "final_df_tr = pd.concat([final_df_tr,pd.get_dummies(x_tr_df['F8'])],axis = 1)\n",
        "final_df_tr.drop('F8', axis=1, inplace=True)\n",
        "\n",
        "final_df_tr = pd.concat([final_df_tr,pd.get_dummies(x_tr_df['F5'])],axis = 1)\n",
        "final_df_tr.drop('F5', axis=1, inplace=True)\n",
        "\n",
        "final_df_tr = pd.concat([final_df_tr,pd.get_dummies(x_tr_df['F6'])],axis = 1)\n",
        "final_df_tr.drop('F6', axis=1, inplace=True)\n",
        "\n",
        "final_df_tr = pd.concat([final_df_tr,pd.get_dummies(x_tr_df['F13'])],axis = 1)\n",
        "final_df_tr.drop('F13', axis=1, inplace=True)\n",
        "\n",
        "final_df_tr.drop('F3', axis=1, inplace=True)\n",
        "\n",
        "#print(final_df_tr.head())\n",
        "\n",
        "\n",
        "final_df_ts = pd.concat([x_ts_df,pd.get_dummies(x_ts_df['F1'])],axis = 1)\n",
        "final_df_ts.drop('F1', axis=1, inplace=True)\n",
        "\n",
        "final_df_ts = pd.concat([final_df_ts,pd.get_dummies(x_ts_df['F7'])],axis = 1)\n",
        "final_df_ts.drop('F7', axis=1, inplace=True)\n",
        "\n",
        "final_df_ts = pd.concat([final_df_ts,pd.get_dummies(x_ts_df['F9'])],axis = 1)\n",
        "final_df_ts.drop('F9', axis=1, inplace=True)\n",
        "\n",
        "final_df_ts = pd.concat([final_df_ts,pd.get_dummies(x_ts_df['F8'])],axis = 1)\n",
        "final_df_ts.drop('F8', axis=1, inplace=True)\n",
        "\n",
        "final_df_ts = pd.concat([final_df_ts,pd.get_dummies(x_ts_df['F5'])],axis = 1)\n",
        "final_df_ts.drop('F5', axis=1, inplace=True)\n",
        "\n",
        "final_df_ts = pd.concat([final_df_ts,pd.get_dummies(x_ts_df['F6'])],axis = 1)\n",
        "final_df_ts.drop('F6', axis=1, inplace=True)\n",
        "\n",
        "final_df_ts = pd.concat([final_df_ts,pd.get_dummies(x_ts_df['F13'])],axis = 1)\n",
        "final_df_ts.drop('F13', axis=1, inplace=True)\n",
        "\n",
        "final_df_ts.drop('F3', axis=1, inplace=True)\n",
        "\n",
        "#print(final_df_ts.tail())\n",
        "#print(final_df_tr.tail())\n",
        "\n",
        "# la align la stiamo usando perchè avendo usato get_dummies purtroppo se qualche valore che compare in uno dei due set\n",
        "# non è presente nell'altro, non verrà generata la colonna corrispondente, per cui non è detto che i due dataframe che si \n",
        "# vanno ad usare abbiamo stesso insieme di colonne.\n",
        "# tantomeno se si va ad usare un dataset che non si conosce, non si può sapere se in futuro ci saranno valori di cui non \n",
        "# si è tenuto conto etc\n",
        "x_tr_df, x_ts_df = final_df_tr.align(final_df_ts, join=\"outer\", axis=1,fill_value=0)\n",
        "print(x_tr_df.tail())\n",
        "print(x_ts_df.tail())\n"
      ],
      "metadata": {
        "colab": {
          "base_uri": "https://localhost:8080/"
        },
        "id": "eZ16glfaSw3K",
        "outputId": "782da94f-6c7b-497a-f02f-4b523a54c7e1"
      },
      "execution_count": 116,
      "outputs": [
        {
          "output_type": "stream",
          "name": "stdout",
          "text": [
            "       Cambodia  Canada  Caribbean  China  Columbia  Cuba  Dominican-Republic  \\\n",
            "26043         0       0          0      0         0     0                   0   \n",
            "26044         0       0          0      0         0     0                   0   \n",
            "26045         0       0          0      0         0     0                   0   \n",
            "26046         0       0          0      0         0     0                   0   \n",
            "26047         0       0          0      0         0     0                   0   \n",
            "\n",
            "       Ecuador  El-Salvador  England  ... Taiwan Thailand USA Vietnam  \\\n",
            "26043        0            0        0  ...      0        0   1       0   \n",
            "26044        0            0        0  ...      0        0   1       0   \n",
            "26045        0            0        0  ...      0        0   1       0   \n",
            "26046        0            0        0  ...      0        0   1       0   \n",
            "26047        0            0        0  ...      0        0   1       0   \n",
            "\n",
            "      Yugoslavia american  asian  black  caucasian  other  \n",
            "26043          0        1      0      0          0      0  \n",
            "26044          0        0      0      0          1      0  \n",
            "26045          0        1      0      0          0      0  \n",
            "26046          0        0      0      1          0      0  \n",
            "26047          0        0      0      0          1      0  \n",
            "\n",
            "[5 rows x 88 columns]\n",
            "      Cambodia  Canada  Caribbean  China  Columbia  Cuba  Dominican-Republic  \\\n",
            "6508         0       0          0      0         0     0                   0   \n",
            "6509         0       0          0      0         0     0                   0   \n",
            "6510         0       0          0      0         0     0                   0   \n",
            "6511         0       0          0      0         0     0                   0   \n",
            "6512         0       0          0      0         0     0                   0   \n",
            "\n",
            "      Ecuador  El-Salvador  England  ... Taiwan Thailand USA Vietnam  \\\n",
            "6508        0            0        0  ...      0        0   1       0   \n",
            "6509        0            0        0  ...      0        0   1       0   \n",
            "6510        0            0        0  ...      0        0   1       0   \n",
            "6511        0            0        0  ...      0        0   1       0   \n",
            "6512        0            0        0  ...      0        0   1       0   \n",
            "\n",
            "     Yugoslavia american  asian  black  caucasian  other  \n",
            "6508          0        0      0      0          1      0  \n",
            "6509          0        0      0      0          1      0  \n",
            "6510          0        0      0      0          1      0  \n",
            "6511          0        0      0      0          1      0  \n",
            "6512          0        0      0      0          1      0  \n",
            "\n",
            "[5 rows x 88 columns]\n"
          ]
        }
      ]
    },
    {
      "cell_type": "code",
      "source": [
        "# SCALING\n",
        "print(\"Robust Scaler\")\n",
        "scaler = RobustScaler()\n",
        "x_tr_scaled = scaler.fit_transform(x_tr_df)\n",
        "x_ts_scaled = scaler.transform(x_ts_df)\n",
        "\n",
        "print(\"Media distribuzione di partenza: {}\".format(np.mean(x_tr_df, axis=0)))\n",
        "print(\"Media distribuzione scalata: {}\".format(np.mean(x_tr_scaled, axis=0)))\n",
        "\n",
        "print(\"Deviazione standard distribuzione di partenza: {}\".format(np.std(x_tr_df, axis=0)))\n",
        "print(\"Deviazione standard distribuzione scalata: {}\".format(np.std(x_tr_scaled, axis=0)))\n",
        "\n",
        "print(\"Media distribuzione di partenza: {}\".format(np.mean(x_ts_df, axis=0)))\n",
        "print(\"Media distribuzione scalata: {}\".format(np.mean(x_ts_scaled, axis=0)))\n",
        "\n",
        "print(\"Deviazione standard distribuzione di partenza: {}\".format(np.std(x_ts_df, axis=0)))\n",
        "print(\"Deviazione standard distribuzione scalata: {}\".format(np.std(x_ts_scaled, axis=0)))"
      ],
      "metadata": {
        "colab": {
          "base_uri": "https://localhost:8080/"
        },
        "id": "M7uWPVo-JsD0",
        "outputId": "23545127-9e21-4626-ca2e-531c4d175865"
      },
      "execution_count": 117,
      "outputs": [
        {
          "output_type": "stream",
          "name": "stdout",
          "text": [
            "Robust Scaler\n",
            "Media distribuzione di partenza: Cambodia     0.000653\n",
            "Canada       0.003839\n",
            "Caribbean    0.000537\n",
            "China        0.002419\n",
            "Columbia     0.001766\n",
            "               ...   \n",
            "american     0.009252\n",
            "asian        0.031749\n",
            "black        0.094556\n",
            "caucasian    0.855920\n",
            "other        0.008523\n",
            "Length: 88, dtype: float64\n",
            "Media distribuzione scalata: [ 6.52641278e-04  3.83906634e-03  5.37469287e-04  2.41861179e-03\n",
            "  1.76597052e-03  2.91769042e-03  2.11148649e-03  9.59766585e-04\n",
            "  3.30159705e-03  2.72573710e-03  8.06683814e-02  1.08609763e+03\n",
            "  8.76982494e+01  8.92199017e-02  9.55337685e-02  2.80763718e-02\n",
            "  3.31273034e-01  8.82985258e-04  4.06941032e-03  7.29422604e-04\n",
            "  1.91953317e-03  1.19011057e-03  4.22297297e-04  6.91031941e-04\n",
            "  4.22297297e-04  3.10964373e-03  1.45884521e-03  7.67813268e-04\n",
            "  2.22665848e-03  2.57217445e-03  2.11148649e-03  3.91968673e-02\n",
            "  7.86624693e-02 -2.47658170e-01  2.94456388e-02  6.48802211e-02\n",
            "  3.48203317e-02  4.60687961e-04  1.91953317e-04  4.99078624e-04\n",
            "  2.52341830e-01  4.06749079e-01  4.76428133e-02  1.54752764e-01\n",
            "  1.07800983e-01  3.07125307e-02 -3.31273034e-01  1.92337224e-02\n",
            "  0.00000000e+00  1.11332924e-03  1.16054975e-01  6.13482801e-02\n",
            "  2.90617322e-02  2.02318796e-02  1.15171990e-04  4.22297297e-03\n",
            "  1.25268735e-01  4.16922604e-02  1.83277027e-01  1.00353194e-01\n",
            "  1.13329238e-01  1.25422297e-01  4.89480958e-02  3.06741400e-02\n",
            "  9.98157248e-04  5.83538084e-03  1.88114251e-03  1.03654791e-03\n",
            "  3.26320639e-03  3.26435811e-01  4.60879914e-01  1.36593980e-01\n",
            "  1.27073096e-02  3.22097666e-02  7.29422604e-04  3.04437961e-02\n",
            "  4.22297297e-04  2.41861179e-03  1.65079853e-03  4.99078624e-04\n",
            " -8.49969287e-02  1.84275184e-03  4.99078624e-04  9.25214988e-03\n",
            "  3.17490786e-02  9.45562039e-02 -1.44080160e-01  8.52272727e-03]\n",
            "Deviazione standard distribuzione di partenza: Cambodia     0.025539\n",
            "Canada       0.061841\n",
            "Caribbean    0.023177\n",
            "China        0.049120\n",
            "Columbia     0.041986\n",
            "               ...   \n",
            "american     0.095742\n",
            "asian        0.175331\n",
            "black        0.292601\n",
            "caucasian    0.351171\n",
            "other        0.091924\n",
            "Length: 88, dtype: float64\n",
            "Deviazione standard distribuzione scalata: [2.55385069e-02 6.18411506e-02 2.31771529e-02 4.91198749e-02\n",
            " 4.19863295e-02 5.39367917e-02 4.59023759e-02 3.09652294e-02\n",
            " 5.73645928e-02 5.21373902e-02 6.82674124e-01 7.45382077e+03\n",
            " 4.03075907e+02 2.46822756e+00 8.84538961e-01 8.56947371e-01\n",
            " 4.70671022e-01 2.97019460e-02 6.36619998e-02 2.69979730e-02\n",
            " 4.37704074e-02 3.44774448e-02 2.05455339e-02 2.62784021e-02\n",
            " 2.05455339e-02 5.56774088e-02 3.81669619e-02 2.76988038e-02\n",
            " 4.71349177e-02 5.06513412e-02 4.59023759e-02 1.94063064e-01\n",
            " 2.69211228e-01 4.31652175e-01 1.69052043e-01 2.46314389e-01\n",
            " 1.83324511e-01 2.14586982e-02 1.38533920e-02 2.23344923e-02\n",
            " 4.34356341e-01 4.91227305e-01 2.13009332e-01 3.61668835e-01\n",
            " 3.10128894e-01 1.72537738e-01 4.70671022e-01 1.37345500e-01\n",
            " 0.00000000e+00 3.33480095e-02 3.20290834e-01 2.39968058e-01\n",
            " 1.67979606e-01 1.40792580e-01 1.07312034e-02 6.48470468e-02\n",
            " 3.31023381e-01 1.99885007e-01 3.86893472e-01 3.00470349e-01\n",
            " 3.16994830e-01 3.31197139e-01 2.15759541e-01 1.72433283e-01\n",
            " 3.15778551e-02 7.61664570e-02 4.33313260e-02 3.21787737e-02\n",
            " 5.70312009e-02 4.68908810e-01 4.98467270e-01 3.43418207e-01\n",
            " 1.12008187e-01 1.76556783e-01 2.69979730e-02 1.71805039e-01\n",
            " 2.05455339e-02 4.91198749e-02 4.05964702e-02 2.23344923e-02\n",
            " 2.78877125e-01 4.28877151e-02 2.23344923e-02 9.57420890e-02\n",
            " 1.75331328e-01 2.92600971e-01 3.51170994e-01 9.19243732e-02]\n",
            "Media distribuzione di partenza: Cambodia     0.000307\n",
            "Canada       0.003224\n",
            "Caribbean    0.000768\n",
            "China        0.001842\n",
            "Columbia     0.001996\n",
            "               ...   \n",
            "american     0.010748\n",
            "asian        0.032550\n",
            "black        0.101489\n",
            "caucasian    0.847689\n",
            "other        0.007523\n",
            "Length: 88, dtype: float64\n",
            "Media distribuzione scalata: [ 3.07078151e-04  3.22432059e-03  7.67695378e-04  1.84246891e-03\n",
            "  1.99600798e-03  2.91724244e-03  2.30308614e-03  4.60617227e-04\n",
            "  3.07078151e-03  2.91724244e-03  7.27391371e-02  1.04385890e+03\n",
            "  8.57263934e+01  8.05773069e-02  1.14088261e-01  2.21608066e-02\n",
            "  3.28880700e-01  9.21234454e-04  4.75971135e-03  1.53539076e-03\n",
            "  2.14954706e-03  1.99600798e-03  3.07078151e-04  3.07078151e-04\n",
            "  3.07078151e-04  2.91724244e-03  7.67695378e-04  6.14156303e-04\n",
            "  2.30308614e-03  2.14954706e-03  1.07477353e-03  4.25303240e-02\n",
            "  7.55412252e-02 -2.42284661e-01  2.96330416e-02  6.18762475e-02\n",
            "  3.20896668e-02  3.07078151e-04  3.07078151e-04  7.67695378e-04\n",
            "  2.65929679e-01  3.98894519e-01  5.02072778e-02  1.59220021e-01\n",
            "  9.79579303e-02  2.77905727e-02 -3.28880700e-01  2.18025487e-02\n",
            "  1.53539076e-04  7.67695378e-04  1.14693690e-01  6.20297866e-02\n",
            "  2.62551819e-02  1.87317672e-02  9.21234454e-04  5.98802395e-03\n",
            "  1.23291878e-01  4.36050975e-02  1.85628743e-01  1.04560111e-01\n",
            "  1.07170275e-01  1.27744511e-01  4.94395824e-02  2.99401198e-02\n",
            "  7.67695378e-04  7.06279748e-03  1.68892983e-03  1.53539076e-03\n",
            "  4.45263320e-03  3.34715185e-01  4.56164594e-01  1.35882082e-01\n",
            "  1.33578996e-02  2.85582681e-02  6.14156303e-04  3.07078151e-02\n",
            "  1.53539076e-04  2.61016429e-03  1.22831261e-03  7.67695378e-04\n",
            " -8.90526639e-02  2.91724244e-03  4.60617227e-04  1.07477353e-02\n",
            "  3.25502840e-02  1.01489329e-01 -1.52310763e-01  7.52341471e-03]\n",
            "Deviazione standard distribuzione di partenza: Cambodia     0.017521\n",
            "Canada       0.056691\n",
            "Caribbean    0.027697\n",
            "China        0.042884\n",
            "Columbia     0.044632\n",
            "               ...   \n",
            "american     0.103113\n",
            "asian        0.177456\n",
            "black        0.301976\n",
            "caucasian    0.359322\n",
            "other        0.086411\n",
            "Length: 88, dtype: float64\n",
            "Deviazione standard distribuzione scalata: [1.75209547e-02 5.66914839e-02 2.76966789e-02 4.28844286e-02\n",
            " 4.46320954e-02 5.39326630e-02 4.79351847e-02 2.14570515e-02\n",
            " 5.53294841e-02 5.39326630e-02 6.79316197e-01 7.10392443e+03\n",
            " 4.02462368e+02 2.47430998e+00 8.95054788e-01 8.59990874e-01\n",
            " 4.69806540e-01 3.03378605e-02 6.88262776e-02 3.91539696e-02\n",
            " 4.63133513e-02 4.46320954e-02 1.75209547e-02 1.75209547e-02\n",
            " 1.75209547e-02 5.39326630e-02 2.76966789e-02 2.47745659e-02\n",
            " 4.79351847e-02 4.63133513e-02 3.27661165e-02 2.01795678e-01\n",
            " 2.64262651e-01 4.28465640e-01 1.69572770e-01 2.40930649e-01\n",
            " 1.76238248e-01 1.75209547e-02 1.75209547e-02 2.76966789e-02\n",
            " 4.41826985e-01 4.89670993e-01 2.18372404e-01 3.65881137e-01\n",
            " 2.97257757e-01 1.64372311e-01 4.69806540e-01 1.46038343e-01\n",
            " 1.23901373e-02 2.76966789e-02 3.18651922e-01 2.41209644e-01\n",
            " 1.59893237e-01 1.35576134e-01 3.03378605e-02 7.71502918e-02\n",
            " 3.28771943e-01 2.04214821e-01 3.88806780e-01 3.05985774e-01\n",
            " 3.09329609e-01 3.33805109e-01 2.16784017e-01 1.70422149e-01\n",
            " 2.76966789e-02 8.37431452e-02 4.10618722e-02 3.91539696e-02\n",
            " 6.65793305e-02 4.71890803e-01 4.98074751e-01 3.42663307e-01\n",
            " 1.14801856e-01 1.66561380e-01 2.47745659e-02 1.72524912e-01\n",
            " 1.23901373e-02 5.10230470e-02 3.50257599e-02 2.76966789e-02\n",
            " 2.84819745e-01 5.39326630e-02 2.14570515e-02 1.03112664e-01\n",
            " 1.77456369e-01 3.01975570e-01 3.59321854e-01 8.64107224e-02]\n"
          ]
        }
      ]
    },
    {
      "cell_type": "code",
      "source": [
        "# ANOMALY DETECTION CON ISOLATION FOREST\n",
        "print(\"Initial distribution\")\n",
        "print(len(x_tr))\n",
        "print(np.unique(y_tr, return_counts=True)[1]/len(y_tr))\n",
        "\n",
        "anomaly_detector = IsolationForest()\n",
        "anomaly_detector.fit(x_tr_scaled)\n",
        "is_inlier = anomaly_detector.predict(x_tr_scaled)\n",
        "\n",
        "print(np.unique(is_inlier, return_counts=True))\n",
        "x_tr_not_anomalous = x_tr_scaled[is_inlier==1,:]\n",
        "y_tr_not_anomalous = y_tr[is_inlier==1]\n",
        "\n",
        "print(\"Distribution after anomaly detection\")\n",
        "print(len(x_tr_not_anomalous))\n",
        "print(np.unique(y_tr_not_anomalous, return_counts=True)[1]/len(y_tr_not_anomalous))"
      ],
      "metadata": {
        "colab": {
          "base_uri": "https://localhost:8080/"
        },
        "id": "2YcUIH8MQdu6",
        "outputId": "9da9c7a7-fe91-4c6c-8672-f814a7a06076"
      },
      "execution_count": 118,
      "outputs": [
        {
          "output_type": "stream",
          "name": "stdout",
          "text": [
            "Initial distribution\n",
            "26048\n",
            "[0.75917537 0.24082463]\n",
            "(array([-1,  1]), array([   74, 25974]))\n",
            "Distribution after anomaly detection\n",
            "25974\n",
            "[0.75933626 0.24066374]\n"
          ]
        }
      ]
    },
    {
      "cell_type": "code",
      "source": [
        "# BALANCING\n",
        "n_classes = len(np.unique(y_tr))\n",
        "fig, ax = plt.subplots()\n",
        "sizes = [len(y_tr[y_tr==i]) for i in range(n_classes)]\n",
        "class_names = [chr(ord('A')+i) for i in range(n_classes)]\n",
        "\n",
        "ax.pie(sizes, labels=class_names, autopct='%1.1f%%',shadow=True,startangle=90)\n",
        "ax.axis(\"equal\")\n",
        "plt.show()\n",
        "\n",
        "sampler = RandomUnderSampler(random_state=42)\n",
        "x_tr_balanced, y_tr_balanced = sampler.fit_resample(x_tr_scaled, y_tr)\n",
        "\n",
        "print(\"Size del dataset prima del sampler: {}\".format(x_tr_scaled.shape[0]))\n",
        "print(\"Size del dataset dopo il sampler: {}\".format(x_tr_balanced.shape[0]))\n",
        "\n",
        "fig, ax = plt.subplots()\n",
        "sizes = [len(y_tr_balanced[y_tr_balanced==i]) for i in range(n_classes)]\n",
        "class_names = [chr(ord('A')+i) for i in range(n_classes)]\n",
        "\n",
        "ax.pie(sizes, labels=class_names, autopct='%1.1f%%',shadow=True,startangle=90)\n",
        "ax.axis(\"equal\")\n",
        "plt.show()"
      ],
      "metadata": {
        "colab": {
          "base_uri": "https://localhost:8080/",
          "height": 514
        },
        "id": "QlW1TnvrPSgQ",
        "outputId": "28212989-e7f4-4379-bb6c-a5f74ec8caea"
      },
      "execution_count": 119,
      "outputs": [
        {
          "output_type": "display_data",
          "data": {
            "text/plain": [
              "<Figure size 432x288 with 1 Axes>"
            ],
            "image/png": "[encoded data removed]"
          },
          "metadata": {}
        },
        {
          "output_type": "stream",
          "name": "stdout",
          "text": [
            "Size del dataset prima del sampler: 26048\n",
            "Size del dataset dopo il sampler: 12546\n"
          ]
        },
        {
          "output_type": "display_data",
          "data": {
            "text/plain": [
              "<Figure size 432x288 with 1 Axes>"
            ],
            "image/png": "[encoded data removed]"
          },
          "metadata": {}
        }
      ]
    },
    {
      "cell_type": "code",
      "source": [
        "\n",
        "def train_evaluate(model, x_tr, y_tr, x_ts, y_ts):\n",
        "  model.fit(x_tr, y_tr)\n",
        "  y_tr_pred = model.predict(x_tr)\n",
        "  y_ts_pred = model.predict(x_ts)\n",
        "  print(\"Accuracy on training set {}\".format(accuracy_score(y_tr, y_tr_pred)))\n",
        "  print(\"F1 score on training set {}\".format(f1_score(y_tr, y_tr_pred)))\n",
        "  print(confusion_matrix(y_tr, y_tr_pred))\n",
        "  print(\"Accuracy on test set {}\".format(accuracy_score(y_ts, y_ts_pred)))\n",
        "  print(\"F1 score on test set {}\".format(f1_score(y_ts, y_ts_pred)))\n",
        "  print(confusion_matrix(y_ts, y_ts_pred))\n",
        "print(\"******* SVC\")\n",
        "classifier = SVC(kernel='rbf', C = 0.4)\n",
        "print(\"Training on scaled data\")\n",
        "train_evaluate(classifier, x_tr_scaled, y_tr, x_ts_scaled, y_ts)\n",
        "print(\"******* SVC\")\n",
        "\n",
        "classifier = SVC(kernel='rbf', C = 0.4)\n",
        "print(\"Training on balanced data\")\n",
        "train_evaluate(classifier, x_tr_balanced, y_tr_balanced, x_ts_scaled, y_ts)\n",
        "print(\"******* SVC\")\n",
        "\n",
        "classifier = SVC(kernel='rbf', C = 0.4)\n",
        "print(\"Training on not anomalous data\")\n",
        "train_evaluate(classifier, x_tr_not_anomalous, y_tr_not_anomalous, x_ts_scaled, y_ts)\n",
        "\n",
        "# CLASSIFICATION: DECISION TREES\n",
        "print(\"******* DecisionTreeClassifier\")\n",
        "classifier = DecisionTreeClassifier(criterion=\"gini\", max_depth=5)\n",
        "train_evaluate(classifier, x_tr_not_anomalous, y_tr_not_anomalous, x_ts_scaled, y_ts)\n",
        "\n",
        "# CLASSIFICATION: METODI ENSEMBLE\n",
        "print(\"******* RandomForestClassifier\")\n",
        "classifier = RandomForestClassifier(max_depth=5, n_estimators=100)\n",
        "train_evaluate(classifier, x_tr_not_anomalous, y_tr_not_anomalous, x_ts_scaled, y_ts)\n",
        "print(\"******* GradientBoostingClassifier\")\n",
        "classifier = GradientBoostingClassifier(max_depth=5, n_estimators=100)\n",
        "train_evaluate(classifier, x_tr_not_anomalous, y_tr_not_anomalous, x_ts_scaled, y_ts)\n",
        "print(\"******* AdaBoostClassifier\")\n",
        "classifier = AdaBoostClassifier(n_estimators=100)\n",
        "train_evaluate(classifier, x_tr_not_anomalous, y_tr_not_anomalous, x_ts_scaled, y_ts)\n",
        "\n",
        "\n"
      ],
      "metadata": {
        "id": "Oc1nkG48IwOH",
        "outputId": "2eeeb160-cb86-4041-ba28-d9431e773b95",
        "colab": {
          "base_uri": "https://localhost:8080/"
        }
      },
      "execution_count": 120,
      "outputs": [
        {
          "output_type": "stream",
          "name": "stdout",
          "text": [
            "******* SVC\n",
            "Training on scaled data\n",
            "Accuracy on training set 0.8019809582309583\n",
            "F1 score on training set 0.40134633240482825\n",
            "[[19161   614]\n",
            " [ 4544  1729]]\n",
            "Accuracy on test set 0.8037770612620913\n",
            "F1 score on test set 0.4055813953488372\n",
            "[[4799  146]\n",
            " [1132  436]]\n",
            "******* SVC\n",
            "Training on balanced data\n",
            "Accuracy on training set 0.6309580742866252\n",
            "F1 score on training set 0.45733708391936245\n",
            "[[5965  308]\n",
            " [4322 1951]]\n",
            "Accuracy on test set 0.7988638108398587\n",
            "F1 score on test set 0.4314236111111111\n",
            "[[4706  239]\n",
            " [1071  497]]\n",
            "******* SVC\n",
            "Training on not anomalous data\n",
            "Accuracy on training set 0.8022253022253022\n",
            "F1 score on training set 0.40023350846468186\n",
            "[[19123   600]\n",
            " [ 4537  1714]]\n",
            "Accuracy on test set 0.8037770612620913\n",
            "F1 score on test set 0.4055813953488372\n",
            "[[4799  146]\n",
            " [1132  436]]\n",
            "******* DecisionTreeClassifier\n",
            "Accuracy on training set 0.8483098483098483\n",
            "F1 score on training set 0.6161340607950118\n",
            "[[18872   851]\n",
            " [ 3089  3162]]\n",
            "Accuracy on test set 0.8401658222017504\n",
            "F1 score on test set 0.5954139137193937\n",
            "[[4706  239]\n",
            " [ 802  766]]\n",
            "******* RandomForestClassifier\n",
            "Accuracy on training set 0.83995533995534\n",
            "F1 score on training set 0.5546866630958758\n",
            "[[19228   495]\n",
            " [ 3662  2589]]\n",
            "Accuracy on test set 0.8335636419468755\n",
            "F1 score on test set 0.5286956521739131\n",
            "[[4821  124]\n",
            " [ 960  608]]\n",
            "******* GradientBoostingClassifier\n",
            "Accuracy on training set 0.8865788865788866\n",
            "F1 score on training set 0.742257217847769\n",
            "[[18786   937]\n",
            " [ 2009  4242]]\n",
            "Accuracy on test set 0.8674957776754184\n",
            "F1 score on test set 0.6966608084358524\n",
            "[[4659  286]\n",
            " [ 577  991]]\n",
            "******* AdaBoostClassifier\n",
            "Accuracy on training set 0.8662123662123662\n",
            "F1 score on training set 0.6934274371415969\n",
            "[[18569  1154]\n",
            " [ 2321  3930]]\n",
            "Accuracy on test set 0.8624289881774911\n",
            "F1 score on test set 0.6840620592383638\n",
            "[[4647  298]\n",
            " [ 598  970]]\n"
          ]
        }
      ]
    },
    {
      "cell_type": "code",
      "source": [
        "# ESEMPIO DI PIPELINE E DI GRID SEARCH CROSS VALIDATION\n",
        "pipe = Pipeline([\n",
        "                 ('imputer', SimpleImputer()),\n",
        "                 ('scaler', StandardScaler()),\n",
        "                 ('classificator', LinearSVC(dual=False))\n",
        "])\n",
        "params = {'classificator__C':np.logspace(-2,1,4)}\n",
        "gs = GridSearchCV(estimator=pipe, param_grid = params)\n",
        "gs.fit(x_tr, y_tr)\n",
        "\n",
        "print(gs.cv_results_)\n",
        "print(gs.best_params_)\n",
        "print(gs.best_score_)\n",
        "\n",
        "print(\"Accuracy training set {}\".format(accuracy_score(y_tr, gs.predict(x_tr))))\n",
        "print(\"Accuracy test set {}\".format(accuracy_score(y_ts, gs.predict(x_ts))))"
      ],
      "metadata": {
        "id": "tLocqoD7dP8_",
        "outputId": "aa865a18-3166-48e2-8433-ac67afe33b57",
        "colab": {
          "base_uri": "https://localhost:8080/",
          "height": 936
        }
      },
      "execution_count": 110,
      "outputs": [
        {
          "output_type": "stream",
          "name": "stderr",
          "text": [
            "/usr/local/lib/python3.7/dist-packages/sklearn/model_selection/_validation.py:372: FitFailedWarning: \n",
            "20 fits failed out of a total of 20.\n",
            "The score on these train-test partitions for these parameters will be set to nan.\n",
            "If these failures are not expected, you can try to debug them by setting error_score='raise'.\n",
            "\n",
            "Below are more details about the failures:\n",
            "--------------------------------------------------------------------------------\n",
            "20 fits failed with the following error:\n",
            "Traceback (most recent call last):\n",
            "  File \"/usr/local/lib/python3.7/dist-packages/sklearn/model_selection/_validation.py\", line 680, in _fit_and_score\n",
            "    estimator.fit(X_train, y_train, **fit_params)\n",
            "  File \"/usr/local/lib/python3.7/dist-packages/sklearn/pipeline.py\", line 390, in fit\n",
            "    Xt = self._fit(X, y, **fit_params_steps)\n",
            "  File \"/usr/local/lib/python3.7/dist-packages/sklearn/pipeline.py\", line 355, in _fit\n",
            "    **fit_params_steps[name],\n",
            "  File \"/usr/local/lib/python3.7/dist-packages/joblib/memory.py\", line 349, in __call__\n",
            "    return self.func(*args, **kwargs)\n",
            "  File \"/usr/local/lib/python3.7/dist-packages/sklearn/pipeline.py\", line 893, in _fit_transform_one\n",
            "    res = transformer.fit_transform(X, y, **fit_params)\n",
            "  File \"/usr/local/lib/python3.7/dist-packages/sklearn/base.py\", line 855, in fit_transform\n",
            "    return self.fit(X, y, **fit_params).transform(X)\n",
            "  File \"/usr/local/lib/python3.7/dist-packages/sklearn/impute/_base.py\", line 319, in fit\n",
            "    X = self._validate_input(X, in_fit=True)\n",
            "  File \"/usr/local/lib/python3.7/dist-packages/sklearn/impute/_base.py\", line 285, in _validate_input\n",
            "    raise new_ve from None\n",
            "ValueError: Cannot use mean strategy with non-numeric data:\n",
            "could not convert string to float: 'K2'\n",
            "\n",
            "  warnings.warn(some_fits_failed_message, FitFailedWarning)\n",
            "/usr/local/lib/python3.7/dist-packages/sklearn/model_selection/_search.py:972: UserWarning: One or more of the test scores are non-finite: [nan nan nan nan]\n",
            "  category=UserWarning,\n"
          ]
        },
        {
          "output_type": "error",
          "ename": "ValueError",
          "evalue": "ignored",
          "traceback": [
            "\u001b[0;31m---------------------------------------------------------------------------\u001b[0m",
            "\u001b[0;31mValueError\u001b[0m                                Traceback (most recent call last)",
            "\u001b[0;32m<ipython-input-110-920e38bf116d>\u001b[0m in \u001b[0;36m<module>\u001b[0;34m()\u001b[0m\n\u001b[1;32m      7\u001b[0m \u001b[0mparams\u001b[0m \u001b[0;34m=\u001b[0m \u001b[0;34m{\u001b[0m\u001b[0;34m'classificator__C'\u001b[0m\u001b[0;34m:\u001b[0m\u001b[0mnp\u001b[0m\u001b[0;34m.\u001b[0m\u001b[0mlogspace\u001b[0m\u001b[0;34m(\u001b[0m\u001b[0;34m-\u001b[0m\u001b[0;36m2\u001b[0m\u001b[0;34m,\u001b[0m\u001b[0;36m1\u001b[0m\u001b[0;34m,\u001b[0m\u001b[0;36m4\u001b[0m\u001b[0;34m)\u001b[0m\u001b[0;34m}\u001b[0m\u001b[0;34m\u001b[0m\u001b[0;34m\u001b[0m\u001b[0m\n\u001b[1;32m      8\u001b[0m \u001b[0mgs\u001b[0m \u001b[0;34m=\u001b[0m \u001b[0mGridSearchCV\u001b[0m\u001b[0;34m(\u001b[0m\u001b[0mestimator\u001b[0m\u001b[0;34m=\u001b[0m\u001b[0mpipe\u001b[0m\u001b[0;34m,\u001b[0m \u001b[0mparam_grid\u001b[0m \u001b[0;34m=\u001b[0m \u001b[0mparams\u001b[0m\u001b[0;34m)\u001b[0m\u001b[0;34m\u001b[0m\u001b[0;34m\u001b[0m\u001b[0m\n\u001b[0;32m----> 9\u001b[0;31m \u001b[0mgs\u001b[0m\u001b[0;34m.\u001b[0m\u001b[0mfit\u001b[0m\u001b[0;34m(\u001b[0m\u001b[0mx_tr\u001b[0m\u001b[0;34m,\u001b[0m \u001b[0my_tr\u001b[0m\u001b[0;34m)\u001b[0m\u001b[0;34m\u001b[0m\u001b[0;34m\u001b[0m\u001b[0m\n\u001b[0m\u001b[1;32m     10\u001b[0m \u001b[0;34m\u001b[0m\u001b[0m\n\u001b[1;32m     11\u001b[0m \u001b[0mprint\u001b[0m\u001b[0;34m(\u001b[0m\u001b[0mgs\u001b[0m\u001b[0;34m.\u001b[0m\u001b[0mcv_results_\u001b[0m\u001b[0;34m)\u001b[0m\u001b[0;34m\u001b[0m\u001b[0;34m\u001b[0m\u001b[0m\n",
            "\u001b[0;32m/usr/local/lib/python3.7/dist-packages/sklearn/model_selection/_search.py\u001b[0m in \u001b[0;36mfit\u001b[0;34m(self, X, y, groups, **fit_params)\u001b[0m\n\u001b[1;32m    924\u001b[0m             \u001b[0mrefit_start_time\u001b[0m \u001b[0;34m=\u001b[0m \u001b[0mtime\u001b[0m\u001b[0;34m.\u001b[0m\u001b[0mtime\u001b[0m\u001b[0;34m(\u001b[0m\u001b[0;34m)\u001b[0m\u001b[0;34m\u001b[0m\u001b[0;34m\u001b[0m\u001b[0m\n\u001b[1;32m    925\u001b[0m             \u001b[0;32mif\u001b[0m \u001b[0my\u001b[0m \u001b[0;32mis\u001b[0m \u001b[0;32mnot\u001b[0m \u001b[0;32mNone\u001b[0m\u001b[0;34m:\u001b[0m\u001b[0;34m\u001b[0m\u001b[0;34m\u001b[0m\u001b[0m\n\u001b[0;32m--> 926\u001b[0;31m                 \u001b[0mself\u001b[0m\u001b[0;34m.\u001b[0m\u001b[0mbest_estimator_\u001b[0m\u001b[0;34m.\u001b[0m\u001b[0mfit\u001b[0m\u001b[0;34m(\u001b[0m\u001b[0mX\u001b[0m\u001b[0;34m,\u001b[0m \u001b[0my\u001b[0m\u001b[0;34m,\u001b[0m \u001b[0;34m**\u001b[0m\u001b[0mfit_params\u001b[0m\u001b[0;34m)\u001b[0m\u001b[0;34m\u001b[0m\u001b[0;34m\u001b[0m\u001b[0m\n\u001b[0m\u001b[1;32m    927\u001b[0m             \u001b[0;32melse\u001b[0m\u001b[0;34m:\u001b[0m\u001b[0;34m\u001b[0m\u001b[0;34m\u001b[0m\u001b[0m\n\u001b[1;32m    928\u001b[0m                 \u001b[0mself\u001b[0m\u001b[0;34m.\u001b[0m\u001b[0mbest_estimator_\u001b[0m\u001b[0;34m.\u001b[0m\u001b[0mfit\u001b[0m\u001b[0;34m(\u001b[0m\u001b[0mX\u001b[0m\u001b[0;34m,\u001b[0m \u001b[0;34m**\u001b[0m\u001b[0mfit_params\u001b[0m\u001b[0;34m)\u001b[0m\u001b[0;34m\u001b[0m\u001b[0;34m\u001b[0m\u001b[0m\n",
            "\u001b[0;32m/usr/local/lib/python3.7/dist-packages/sklearn/pipeline.py\u001b[0m in \u001b[0;36mfit\u001b[0;34m(self, X, y, **fit_params)\u001b[0m\n\u001b[1;32m    388\u001b[0m         \"\"\"\n\u001b[1;32m    389\u001b[0m         \u001b[0mfit_params_steps\u001b[0m \u001b[0;34m=\u001b[0m \u001b[0mself\u001b[0m\u001b[0;34m.\u001b[0m\u001b[0m_check_fit_params\u001b[0m\u001b[0;34m(\u001b[0m\u001b[0;34m**\u001b[0m\u001b[0mfit_params\u001b[0m\u001b[0;34m)\u001b[0m\u001b[0;34m\u001b[0m\u001b[0;34m\u001b[0m\u001b[0m\n\u001b[0;32m--> 390\u001b[0;31m         \u001b[0mXt\u001b[0m \u001b[0;34m=\u001b[0m \u001b[0mself\u001b[0m\u001b[0;34m.\u001b[0m\u001b[0m_fit\u001b[0m\u001b[0;34m(\u001b[0m\u001b[0mX\u001b[0m\u001b[0;34m,\u001b[0m \u001b[0my\u001b[0m\u001b[0;34m,\u001b[0m \u001b[0;34m**\u001b[0m\u001b[0mfit_params_steps\u001b[0m\u001b[0;34m)\u001b[0m\u001b[0;34m\u001b[0m\u001b[0;34m\u001b[0m\u001b[0m\n\u001b[0m\u001b[1;32m    391\u001b[0m         \u001b[0;32mwith\u001b[0m \u001b[0m_print_elapsed_time\u001b[0m\u001b[0;34m(\u001b[0m\u001b[0;34m\"Pipeline\"\u001b[0m\u001b[0;34m,\u001b[0m \u001b[0mself\u001b[0m\u001b[0;34m.\u001b[0m\u001b[0m_log_message\u001b[0m\u001b[0;34m(\u001b[0m\u001b[0mlen\u001b[0m\u001b[0;34m(\u001b[0m\u001b[0mself\u001b[0m\u001b[0;34m.\u001b[0m\u001b[0msteps\u001b[0m\u001b[0;34m)\u001b[0m \u001b[0;34m-\u001b[0m \u001b[0;36m1\u001b[0m\u001b[0;34m)\u001b[0m\u001b[0;34m)\u001b[0m\u001b[0;34m:\u001b[0m\u001b[0;34m\u001b[0m\u001b[0;34m\u001b[0m\u001b[0m\n\u001b[1;32m    392\u001b[0m             \u001b[0;32mif\u001b[0m \u001b[0mself\u001b[0m\u001b[0;34m.\u001b[0m\u001b[0m_final_estimator\u001b[0m \u001b[0;34m!=\u001b[0m \u001b[0;34m\"passthrough\"\u001b[0m\u001b[0;34m:\u001b[0m\u001b[0;34m\u001b[0m\u001b[0;34m\u001b[0m\u001b[0m\n",
            "\u001b[0;32m/usr/local/lib/python3.7/dist-packages/sklearn/pipeline.py\u001b[0m in \u001b[0;36m_fit\u001b[0;34m(self, X, y, **fit_params_steps)\u001b[0m\n\u001b[1;32m    353\u001b[0m                 \u001b[0mmessage_clsname\u001b[0m\u001b[0;34m=\u001b[0m\u001b[0;34m\"Pipeline\"\u001b[0m\u001b[0;34m,\u001b[0m\u001b[0;34m\u001b[0m\u001b[0;34m\u001b[0m\u001b[0m\n\u001b[1;32m    354\u001b[0m                 \u001b[0mmessage\u001b[0m\u001b[0;34m=\u001b[0m\u001b[0mself\u001b[0m\u001b[0;34m.\u001b[0m\u001b[0m_log_message\u001b[0m\u001b[0;34m(\u001b[0m\u001b[0mstep_idx\u001b[0m\u001b[0;34m)\u001b[0m\u001b[0;34m,\u001b[0m\u001b[0;34m\u001b[0m\u001b[0;34m\u001b[0m\u001b[0m\n\u001b[0;32m--> 355\u001b[0;31m                 \u001b[0;34m**\u001b[0m\u001b[0mfit_params_steps\u001b[0m\u001b[0;34m[\u001b[0m\u001b[0mname\u001b[0m\u001b[0;34m]\u001b[0m\u001b[0;34m,\u001b[0m\u001b[0;34m\u001b[0m\u001b[0;34m\u001b[0m\u001b[0m\n\u001b[0m\u001b[1;32m    356\u001b[0m             )\n\u001b[1;32m    357\u001b[0m             \u001b[0;31m# Replace the transformer of the step with the fitted\u001b[0m\u001b[0;34m\u001b[0m\u001b[0;34m\u001b[0m\u001b[0;34m\u001b[0m\u001b[0m\n",
            "\u001b[0;32m/usr/local/lib/python3.7/dist-packages/joblib/memory.py\u001b[0m in \u001b[0;36m__call__\u001b[0;34m(self, *args, **kwargs)\u001b[0m\n\u001b[1;32m    347\u001b[0m \u001b[0;34m\u001b[0m\u001b[0m\n\u001b[1;32m    348\u001b[0m     \u001b[0;32mdef\u001b[0m \u001b[0m__call__\u001b[0m\u001b[0;34m(\u001b[0m\u001b[0mself\u001b[0m\u001b[0;34m,\u001b[0m \u001b[0;34m*\u001b[0m\u001b[0margs\u001b[0m\u001b[0;34m,\u001b[0m \u001b[0;34m**\u001b[0m\u001b[0mkwargs\u001b[0m\u001b[0;34m)\u001b[0m\u001b[0;34m:\u001b[0m\u001b[0;34m\u001b[0m\u001b[0;34m\u001b[0m\u001b[0m\n\u001b[0;32m--> 349\u001b[0;31m         \u001b[0;32mreturn\u001b[0m \u001b[0mself\u001b[0m\u001b[0;34m.\u001b[0m\u001b[0mfunc\u001b[0m\u001b[0;34m(\u001b[0m\u001b[0;34m*\u001b[0m\u001b[0margs\u001b[0m\u001b[0;34m,\u001b[0m \u001b[0;34m**\u001b[0m\u001b[0mkwargs\u001b[0m\u001b[0;34m)\u001b[0m\u001b[0;34m\u001b[0m\u001b[0;34m\u001b[0m\u001b[0m\n\u001b[0m\u001b[1;32m    350\u001b[0m \u001b[0;34m\u001b[0m\u001b[0m\n\u001b[1;32m    351\u001b[0m     \u001b[0;32mdef\u001b[0m \u001b[0mcall_and_shelve\u001b[0m\u001b[0;34m(\u001b[0m\u001b[0mself\u001b[0m\u001b[0;34m,\u001b[0m \u001b[0;34m*\u001b[0m\u001b[0margs\u001b[0m\u001b[0;34m,\u001b[0m \u001b[0;34m**\u001b[0m\u001b[0mkwargs\u001b[0m\u001b[0;34m)\u001b[0m\u001b[0;34m:\u001b[0m\u001b[0;34m\u001b[0m\u001b[0;34m\u001b[0m\u001b[0m\n",
            "\u001b[0;32m/usr/local/lib/python3.7/dist-packages/sklearn/pipeline.py\u001b[0m in \u001b[0;36m_fit_transform_one\u001b[0;34m(transformer, X, y, weight, message_clsname, message, **fit_params)\u001b[0m\n\u001b[1;32m    891\u001b[0m     \u001b[0;32mwith\u001b[0m \u001b[0m_print_elapsed_time\u001b[0m\u001b[0;34m(\u001b[0m\u001b[0mmessage_clsname\u001b[0m\u001b[0;34m,\u001b[0m \u001b[0mmessage\u001b[0m\u001b[0;34m)\u001b[0m\u001b[0;34m:\u001b[0m\u001b[0;34m\u001b[0m\u001b[0;34m\u001b[0m\u001b[0m\n\u001b[1;32m    892\u001b[0m         \u001b[0;32mif\u001b[0m \u001b[0mhasattr\u001b[0m\u001b[0;34m(\u001b[0m\u001b[0mtransformer\u001b[0m\u001b[0;34m,\u001b[0m \u001b[0;34m\"fit_transform\"\u001b[0m\u001b[0;34m)\u001b[0m\u001b[0;34m:\u001b[0m\u001b[0;34m\u001b[0m\u001b[0;34m\u001b[0m\u001b[0m\n\u001b[0;32m--> 893\u001b[0;31m             \u001b[0mres\u001b[0m \u001b[0;34m=\u001b[0m \u001b[0mtransformer\u001b[0m\u001b[0;34m.\u001b[0m\u001b[0mfit_transform\u001b[0m\u001b[0;34m(\u001b[0m\u001b[0mX\u001b[0m\u001b[0;34m,\u001b[0m \u001b[0my\u001b[0m\u001b[0;34m,\u001b[0m \u001b[0;34m**\u001b[0m\u001b[0mfit_params\u001b[0m\u001b[0;34m)\u001b[0m\u001b[0;34m\u001b[0m\u001b[0;34m\u001b[0m\u001b[0m\n\u001b[0m\u001b[1;32m    894\u001b[0m         \u001b[0;32melse\u001b[0m\u001b[0;34m:\u001b[0m\u001b[0;34m\u001b[0m\u001b[0;34m\u001b[0m\u001b[0m\n\u001b[1;32m    895\u001b[0m             \u001b[0mres\u001b[0m \u001b[0;34m=\u001b[0m \u001b[0mtransformer\u001b[0m\u001b[0;34m.\u001b[0m\u001b[0mfit\u001b[0m\u001b[0;34m(\u001b[0m\u001b[0mX\u001b[0m\u001b[0;34m,\u001b[0m \u001b[0my\u001b[0m\u001b[0;34m,\u001b[0m \u001b[0;34m**\u001b[0m\u001b[0mfit_params\u001b[0m\u001b[0;34m)\u001b[0m\u001b[0;34m.\u001b[0m\u001b[0mtransform\u001b[0m\u001b[0;34m(\u001b[0m\u001b[0mX\u001b[0m\u001b[0;34m)\u001b[0m\u001b[0;34m\u001b[0m\u001b[0;34m\u001b[0m\u001b[0m\n",
            "\u001b[0;32m/usr/local/lib/python3.7/dist-packages/sklearn/base.py\u001b[0m in \u001b[0;36mfit_transform\u001b[0;34m(self, X, y, **fit_params)\u001b[0m\n\u001b[1;32m    853\u001b[0m         \u001b[0;32melse\u001b[0m\u001b[0;34m:\u001b[0m\u001b[0;34m\u001b[0m\u001b[0;34m\u001b[0m\u001b[0m\n\u001b[1;32m    854\u001b[0m             \u001b[0;31m# fit method of arity 2 (supervised transformation)\u001b[0m\u001b[0;34m\u001b[0m\u001b[0;34m\u001b[0m\u001b[0;34m\u001b[0m\u001b[0m\n\u001b[0;32m--> 855\u001b[0;31m             \u001b[0;32mreturn\u001b[0m \u001b[0mself\u001b[0m\u001b[0;34m.\u001b[0m\u001b[0mfit\u001b[0m\u001b[0;34m(\u001b[0m\u001b[0mX\u001b[0m\u001b[0;34m,\u001b[0m \u001b[0my\u001b[0m\u001b[0;34m,\u001b[0m \u001b[0;34m**\u001b[0m\u001b[0mfit_params\u001b[0m\u001b[0;34m)\u001b[0m\u001b[0;34m.\u001b[0m\u001b[0mtransform\u001b[0m\u001b[0;34m(\u001b[0m\u001b[0mX\u001b[0m\u001b[0;34m)\u001b[0m\u001b[0;34m\u001b[0m\u001b[0;34m\u001b[0m\u001b[0m\n\u001b[0m\u001b[1;32m    856\u001b[0m \u001b[0;34m\u001b[0m\u001b[0m\n\u001b[1;32m    857\u001b[0m \u001b[0;34m\u001b[0m\u001b[0m\n",
            "\u001b[0;32m/usr/local/lib/python3.7/dist-packages/sklearn/impute/_base.py\u001b[0m in \u001b[0;36mfit\u001b[0;34m(self, X, y)\u001b[0m\n\u001b[1;32m    317\u001b[0m             \u001b[0mFitted\u001b[0m \u001b[0mestimator\u001b[0m\u001b[0;34m.\u001b[0m\u001b[0;34m\u001b[0m\u001b[0;34m\u001b[0m\u001b[0m\n\u001b[1;32m    318\u001b[0m         \"\"\"\n\u001b[0;32m--> 319\u001b[0;31m         \u001b[0mX\u001b[0m \u001b[0;34m=\u001b[0m \u001b[0mself\u001b[0m\u001b[0;34m.\u001b[0m\u001b[0m_validate_input\u001b[0m\u001b[0;34m(\u001b[0m\u001b[0mX\u001b[0m\u001b[0;34m,\u001b[0m \u001b[0min_fit\u001b[0m\u001b[0;34m=\u001b[0m\u001b[0;32mTrue\u001b[0m\u001b[0;34m)\u001b[0m\u001b[0;34m\u001b[0m\u001b[0;34m\u001b[0m\u001b[0m\n\u001b[0m\u001b[1;32m    320\u001b[0m \u001b[0;34m\u001b[0m\u001b[0m\n\u001b[1;32m    321\u001b[0m         \u001b[0;31m# default fill_value is 0 for numerical input and \"missing_value\"\u001b[0m\u001b[0;34m\u001b[0m\u001b[0;34m\u001b[0m\u001b[0;34m\u001b[0m\u001b[0m\n",
            "\u001b[0;32m/usr/local/lib/python3.7/dist-packages/sklearn/impute/_base.py\u001b[0m in \u001b[0;36m_validate_input\u001b[0;34m(self, X, in_fit)\u001b[0m\n\u001b[1;32m    283\u001b[0m                     )\n\u001b[1;32m    284\u001b[0m                 )\n\u001b[0;32m--> 285\u001b[0;31m                 \u001b[0;32mraise\u001b[0m \u001b[0mnew_ve\u001b[0m \u001b[0;32mfrom\u001b[0m \u001b[0;32mNone\u001b[0m\u001b[0;34m\u001b[0m\u001b[0;34m\u001b[0m\u001b[0m\n\u001b[0m\u001b[1;32m    286\u001b[0m             \u001b[0;32melse\u001b[0m\u001b[0;34m:\u001b[0m\u001b[0;34m\u001b[0m\u001b[0;34m\u001b[0m\u001b[0m\n\u001b[1;32m    287\u001b[0m                 \u001b[0;32mraise\u001b[0m \u001b[0mve\u001b[0m\u001b[0;34m\u001b[0m\u001b[0;34m\u001b[0m\u001b[0m\n",
            "\u001b[0;31mValueError\u001b[0m: Cannot use mean strategy with non-numeric data:\ncould not convert string to float: 'K2'"
          ]
        }
      ]
    }
  ]
}