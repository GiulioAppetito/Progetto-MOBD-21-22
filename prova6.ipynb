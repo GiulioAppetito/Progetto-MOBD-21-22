{
  "nbformat": 4,
  "nbformat_minor": 0,
  "metadata": {
    "colab": {
      "name": "Untitled0.ipynb",
      "provenance": [],
      "collapsed_sections": [],
      "include_colab_link": true
    },
    "kernelspec": {
      "name": "python3",
      "display_name": "Python 3"
    },
    "language_info": {
      "name": "python"
    }
  },
  "cells": [
    {
      "cell_type": "markdown",
      "metadata": {
        "id": "view-in-github",
        "colab_type": "text"
      },
      "source": [
        "<a href=\"https://colab.research.google.com/github/GiulioAppetito/Progetto_MOBD_2122/blob/main/prova6.ipynb\" target=\"_parent\"><img src=\"https://colab.research.google.com/assets/colab-badge.svg\" alt=\"Open In Colab\"/></a>"
      ]
    },
    {
      "cell_type": "code",
      "execution_count": 1,
      "metadata": {
        "colab": {
          "base_uri": "https://localhost:8080/"
        },
        "id": "Dn_vjC4iSuRW",
        "outputId": "b61bba88-44bd-4b3e-95ae-69945d864220"
      },
      "outputs": [
        {
          "output_type": "stream",
          "name": "stdout",
          "text": [
            "Mounted at /content/drive\n"
          ]
        }
      ],
      "source": [
        "from google.colab import drive\n",
        "drive.mount('/content/drive')"
      ]
    },
    {
      "cell_type": "code",
      "source": [
        "%cd /content/drive/My\\ Drive/ProgettoMOBD"
      ],
      "metadata": {
        "colab": {
          "base_uri": "https://localhost:8080/"
        },
        "id": "fTRrYnQDTEMh",
        "outputId": "d0262f0d-f16a-4b52-966e-583602a28d29"
      },
      "execution_count": 2,
      "outputs": [
        {
          "output_type": "stream",
          "name": "stdout",
          "text": [
            "/content/drive/My Drive/ProgettoMOBD\n"
          ]
        }
      ]
    },
    {
      "cell_type": "code",
      "source": [
        "import sklearn\n",
        "import pandas as pd\n",
        "import numpy as np\n",
        "\n",
        "from sklearn.preprocessing import OneHotEncoder\n",
        "from sklearn.model_selection import train_test_split, GridSearchCV\n",
        "from sklearn.pipeline import Pipeline\n",
        "from sklearn.experimental import enable_iterative_imputer\n",
        "from sklearn_pandas import CategoricalImputer\n",
        "from sklearn.ensemble import IsolationForest, RandomForestClassifier, GradientBoostingClassifier, AdaBoostClassifier\n",
        "from sklearn.impute import SimpleImputer, IterativeImputer, KNNImputer\n",
        "from sklearn.preprocessing import StandardScaler, MinMaxScaler, MaxAbsScaler, RobustScaler\n",
        "from sklearn.svm import SVC, LinearSVC\n",
        "from imblearn.under_sampling import RandomUnderSampler, ClusterCentroids\n",
        "from imblearn.over_sampling import RandomOverSampler, SMOTE\n",
        "from sklearn.tree import DecisionTreeClassifier,export_graphviz\n",
        "from sklearn import tree\n",
        "import graphviz\n",
        "import matplotlib.pyplot as plt\n",
        "from sklearn.metrics import accuracy_score, confusion_matrix, precision_score, recall_score, f1_score\n",
        "\n",
        "np.random.seed = 123"
      ],
      "metadata": {
        "id": "xsl9cpj0TdP-"
      },
      "execution_count": 3,
      "outputs": []
    },
    {
      "cell_type": "code",
      "source": [
        "# LETTURA DATASET\n",
        "data = pd.read_csv(\"train.csv\", sep=\",\")\n",
        "print(data.head())\n",
        "# print(\"\\nLabels: {}\".format(np.unique(data.Y, return_counts=True)))\n",
        "\n",
        "# print(\"\\n# of NaNs values for each column:\")\n",
        "# print(data.isnull().sum(axis=0))\n",
        "\n",
        "x = data.iloc[:, :-1].to_numpy()\n",
        "y = data.iloc[:, -1].to_numpy()\n",
        "# print(x.shape)\n",
        "# print(y.shape)\n",
        "\n",
        "# stratify: to mantain the same mean as y for y_tr and y_ts\n",
        "x_tr, x_ts, y_tr, y_ts = train_test_split(x, y, test_size=0.3, random_state=253, stratify=y)\n",
        "\n",
        "# print(x_tr.shape)\n",
        "# print(y_tr.shape)\n",
        "# print(x_ts.shape)\n",
        "# print(y_ts.shape)\n",
        "\n",
        "# print(np.unique(y, return_counts=True)[1]/len(y))\n",
        "# print(np.unique(y_tr, return_counts=True)[1]/len(y_tr))\n",
        "# print(np.unique(y_ts, return_counts=True)[1]/len(y_ts))"
      ],
      "metadata": {
        "id": "2AaafCLmf8zf",
        "outputId": "32e072cc-2ebe-4f42-dd1e-9871a4560430",
        "colab": {
          "base_uri": "https://localhost:8080/"
        }
      },
      "execution_count": 4,
      "outputs": [
        {
          "output_type": "stream",
          "name": "stdout",
          "text": [
            "   F0  F1      F2  F3  F4  F5  F6  F7         F8      F9   F10  F11  F12  \\\n",
            "0  39  K1   77516  R1  13  Q1  P1  M1  caucasian    Male  2174    0   40   \n",
            "1  50  K2   83311  R1  13  Q2  P2  M2  caucasian    Male     0    0   13   \n",
            "2  38  K3  215646  R2   9  Q3  P3  M1  caucasian    Male     0    0   40   \n",
            "3  53  K3  234721  R3   7  Q2  P3  M2      black    Male     0    0   40   \n",
            "4  28  K3  338409  R1  13  Q2  P4  M3      black  Female     0    0   40   \n",
            "\n",
            "    F13  Y  \n",
            "0   USA  0  \n",
            "1   USA  0  \n",
            "2   USA  0  \n",
            "3   USA  0  \n",
            "4  Cuba  0  \n"
          ]
        }
      ]
    },
    {
      "cell_type": "code",
      "source": [
        "# valori nan\n",
        "imp = SimpleImputer(missing_values=np.nan, strategy = 'most_frequent')\n",
        "x_tr_notnan = imp.fit_transform(x_tr)\n",
        "x_ts_notnan = imp.transform(x_ts)"
      ],
      "metadata": {
        "id": "NfpZQUHWEWod"
      },
      "execution_count": 5,
      "outputs": []
    },
    {
      "cell_type": "code",
      "source": [
        "#gestione features categoriche\n",
        "#dato che però questi sono ndarrays, per fare la one hot coded technique dobbiamo usare dataframes\n",
        "\n",
        "x_tr_df = pd.DataFrame(x_tr_notnan)\n",
        "x_ts_df = pd.DataFrame(x_ts_notnan)\n",
        "\n",
        "x_tr_df.columns=['F0','F1','F2','F3','F4','F5','F6','F7','F8','F9','F10','F11','F12','F13']\n",
        "x_ts_df.columns=['F0','F1','F2','F3','F4','F5','F6','F7','F8','F9','F10','F11','F12','F13']\n",
        "\n",
        "# one hot code\n",
        "\n",
        "final_df_tr = pd.concat([x_tr_df,pd.get_dummies(x_tr_df['F1'])],axis = 1)\n",
        "final_df_tr.drop('F1', axis=1, inplace=True)\n",
        "\n",
        "final_df_tr = pd.concat([final_df_tr,pd.get_dummies(final_df_tr['F7'])],axis = 1)\n",
        "final_df_tr.drop('F7', axis=1, inplace=True)\n",
        "\n",
        "final_df_tr = pd.concat([final_df_tr,pd.get_dummies(final_df_tr['F9'])],axis = 1)\n",
        "final_df_tr.drop('F9', axis=1, inplace=True)\n",
        "\n",
        "final_df_tr = pd.concat([final_df_tr,pd.get_dummies(final_df_tr['F8'])],axis = 1)\n",
        "final_df_tr.drop('F8', axis=1, inplace=True)\n",
        "\n",
        "final_df_tr = pd.concat([final_df_tr,pd.get_dummies(final_df_tr['F5'])],axis = 1)\n",
        "final_df_tr.drop('F5', axis=1, inplace=True)\n",
        "\n",
        "final_df_tr = pd.concat([final_df_tr,pd.get_dummies(final_df_tr['F6'])],axis = 1)\n",
        "final_df_tr.drop('F6', axis=1, inplace=True)\n",
        "\n",
        "final_df_tr = pd.concat([final_df_tr,pd.get_dummies(final_df_tr['F13'])],axis = 1)\n",
        "final_df_tr.drop('F13', axis=1, inplace=True)\n",
        "\n",
        "final_df_tr.drop('F3', axis=1, inplace=True)\n",
        "\n",
        "print(final_df_tr.head())\n",
        "\n",
        "\n",
        "final_df_ts = pd.concat([x_ts_df,pd.get_dummies(x_ts_df['F1'])],axis = 1)\n",
        "final_df_ts.drop('F1', axis=1, inplace=True)\n",
        "\n",
        "final_df_ts = pd.concat([final_df_ts,pd.get_dummies(final_df_ts['F7'])],axis = 1)\n",
        "final_df_ts.drop('F7', axis=1, inplace=True)\n",
        "\n",
        "final_df_ts = pd.concat([final_df_ts,pd.get_dummies(final_df_ts['F9'])],axis = 1)\n",
        "final_df_ts.drop('F9', axis=1, inplace=True)\n",
        "\n",
        "final_df_ts = pd.concat([final_df_ts,pd.get_dummies(final_df_ts['F8'])],axis = 1)\n",
        "final_df_ts.drop('F8', axis=1, inplace=True)\n",
        "\n",
        "final_df_ts = pd.concat([final_df_ts,pd.get_dummies(final_df_ts['F5'])],axis = 1)\n",
        "final_df_ts.drop('F5', axis=1, inplace=True)\n",
        "\n",
        "final_df_ts = pd.concat([final_df_ts,pd.get_dummies(final_df_ts['F6'])],axis = 1)\n",
        "final_df_ts.drop('F6', axis=1, inplace=True)\n",
        "\n",
        "final_df_ts = pd.concat([final_df_ts,pd.get_dummies(final_df_ts['F13'])],axis = 1)\n",
        "final_df_ts.drop('F13', axis=1, inplace=True)\n",
        "\n",
        "final_df_ts.drop('F3', axis=1, inplace=True)\n",
        "\n",
        "print(final_df_ts.head())\n",
        "\n",
        "\n",
        "# la align la stiamo usando perchè avendo usato get_dummies purtroppo se qualche valore che compare in uno dei due set\n",
        "# non è presente nell'altro, non verrà generata la colonna corrispondente, per cui non è detto che i due dataframe che si \n",
        "# vanno ad usare abbiamo stesso insieme di colonne.\n",
        "# tantomeno se si va ad usare un dataset che non si conosce, non si può sapere se in futuro ci saranno valori di cui non \n",
        "# si è tenuto conto etc\n",
        "x_tr_df, x_ts_df = final_df_tr.align(final_df_ts, join=\"outer\", axis=1, fill_value=0)\n",
        "print('***********************')\n",
        "print(x_tr_df.tail())\n",
        "print('******************')\n",
        "print(x_ts_df.tail())\n"
      ],
      "metadata": {
        "colab": {
          "base_uri": "https://localhost:8080/"
        },
        "id": "eZ16glfaSw3K",
        "outputId": "b7beb667-67ea-44c8-b316-05d8d8db2349"
      },
      "execution_count": 16,
      "outputs": [
        {
          "output_type": "stream",
          "name": "stdout",
          "text": [
            "   F0      F2  F4    F10 F11 F12  K1  K2  K3  K4  ...  Poland  Portugal  \\\n",
            "0  20  298227  10      0   0  35   0   0   1   0  ...       0         0   \n",
            "1  46  220269  10      0   0  40   0   0   1   0  ...       0         0   \n",
            "2  24  175586   9      0   0  40   0   0   1   0  ...       0         0   \n",
            "3  41  280167  14  15024   0  70   0   0   1   0  ...       0         0   \n",
            "4  19   61855   9      0   0  30   0   0   1   0  ...       0         0   \n",
            "\n",
            "   Puerto-Rico  Scotland  South  Taiwan  Thailand  USA  Vietnam  Yugoslavia  \n",
            "0            0         0      0       0         0    1        0           0  \n",
            "1            0         0      0       0         0    1        0           0  \n",
            "2            0         0      0       0         0    1        0           0  \n",
            "3            0         0      0       0         0    1        0           0  \n",
            "4            0         0      0       0         0    1        0           0  \n",
            "\n",
            "[5 rows x 88 columns]\n",
            "   F0      F2  F4    F10 F11 F12  K1  K2  K3  K4  ...  Poland  Portugal  \\\n",
            "0  20  260199   9      0   0  10   0   0   1   0  ...       0         0   \n",
            "1  33  267859  10      0   0  40   0   0   0   0  ...       0         0   \n",
            "2  55   52953   9      0   0  40   0   0   1   0  ...       0         0   \n",
            "3  50  194231  14      0   0  40   0   0   1   0  ...       0         0   \n",
            "4  39  202027  13  15024   0  45   0   0   1   0  ...       0         0   \n",
            "\n",
            "   Puerto-Rico  Scotland  South  Taiwan  Thailand  USA  Vietnam  Yugoslavia  \n",
            "0            0         0      0       0         0    1        0           0  \n",
            "1            0         0      0       0         0    1        0           0  \n",
            "2            0         0      0       0         0    1        0           0  \n",
            "3            0         0      0       0         0    1        0           0  \n",
            "4            0         0      0       0         0    1        0           0  \n",
            "\n",
            "[5 rows x 87 columns]\n",
            "***********************\n",
            "       Cambodia  Canada  Caribbean  China  Columbia  Cuba  Dominican-Republic  \\\n",
            "22787         0       0          0      0         0     0                   0   \n",
            "22788         0       0          0      0         0     0                   0   \n",
            "22789         0       0          0      0         0     0                   0   \n",
            "22790         0       0          0      0         0     0                   0   \n",
            "22791         0       0          0      0         0     0                   0   \n",
            "\n",
            "       Ecuador  El-Salvador  England  ... Taiwan Thailand USA Vietnam  \\\n",
            "22787        0            0        0  ...      0        0   1       0   \n",
            "22788        0            0        0  ...      0        0   1       0   \n",
            "22789        0            0        0  ...      0        0   1       0   \n",
            "22790        0            0        0  ...      0        0   1       0   \n",
            "22791        0            0        0  ...      0        0   1       0   \n",
            "\n",
            "      Yugoslavia american  asian  black  caucasian  other  \n",
            "22787          0        0      0      0          1      0  \n",
            "22788          0        0      0      0          1      0  \n",
            "22789          0        0      0      1          0      0  \n",
            "22790          0        0      0      0          1      0  \n",
            "22791          0        0      0      0          1      0  \n",
            "\n",
            "[5 rows x 88 columns]\n",
            "******************\n",
            "      Cambodia  Canada  Caribbean  China  Columbia  Cuba  Dominican-Republic  \\\n",
            "9764         0       0          0      0         0     0                   0   \n",
            "9765         0       0          0      0         0     0                   0   \n",
            "9766         0       0          0      0         0     0                   0   \n",
            "9767         0       0          0      0         0     0                   0   \n",
            "9768         0       0          0      0         0     0                   0   \n",
            "\n",
            "      Ecuador  El-Salvador  England  ... Taiwan Thailand USA Vietnam  \\\n",
            "9764        0            0        0  ...      0        0   1       0   \n",
            "9765        0            0        0  ...      0        0   1       0   \n",
            "9766        0            0        0  ...      0        0   1       0   \n",
            "9767        0            0        0  ...      0        0   1       0   \n",
            "9768        0            0        0  ...      0        0   1       0   \n",
            "\n",
            "     Yugoslavia american  asian  black  caucasian  other  \n",
            "9764          0        0      0      0          1      0  \n",
            "9765          0        0      0      0          1      0  \n",
            "9766          0        0      0      0          1      0  \n",
            "9767          0        0      0      0          1      0  \n",
            "9768          0        0      0      0          1      0  \n",
            "\n",
            "[5 rows x 88 columns]\n"
          ]
        }
      ]
    },
    {
      "cell_type": "code",
      "source": [
        "# SCALING\n",
        "print(\"Robust Scaler\")\n",
        "scaler = RobustScaler()\n",
        "x_tr_scaled = scaler.fit_transform(final_df_tr)\n",
        "x_ts_scaled = scaler.transform(final_df_ts)\n",
        "\n",
        "print(\"Media distribuzione di partenza: {}\".format(np.mean(final_df_tr, axis=0)))\n",
        "print(\"Media distribuzione scalata: {}\".format(np.mean(x_tr_scaled, axis=0)))\n",
        "\n",
        "print(\"Deviazione standard distribuzione di partenza: {}\".format(np.std(final_df_tr, axis=0)))\n",
        "print(\"Deviazione standard distribuzione scalata: {}\".format(np.std(x_tr_scaled, axis=0)))\n",
        "\n",
        "print(\"Media distribuzione di partenza: {}\".format(np.mean(final_df_ts, axis=0)))\n",
        "print(\"Media distribuzione scalata: {}\".format(np.mean(x_ts_scaled, axis=0)))\n",
        "\n",
        "print(\"Deviazione standard distribuzione di partenza: {}\".format(np.std(final_df_ts, axis=0)))\n",
        "print(\"Deviazione standard distribuzione scalata: {}\".format(np.std(x_ts_scaled, axis=0)))"
      ],
      "metadata": {
        "id": "u5-Tv-bAA3P4"
      },
      "execution_count": null,
      "outputs": []
    },
    {
      "cell_type": "code",
      "source": [
        "# ANOMALY DETECTION CON ISOLATION FOREST\n",
        "print(\"Initial distribution\")\n",
        "print(len(x_tr))\n",
        "print(np.unique(y_tr, return_counts=True)[1]/len(y_tr))\n",
        "\n",
        "anomaly_detector = IsolationForest()\n",
        "anomaly_detector.fit(x_tr_scaled)\n",
        "is_inlier = anomaly_detector.predict(x_tr_scaled)\n",
        "\n",
        "print(np.unique(is_inlier, return_counts=True))\n",
        "x_tr_not_anomalous = x_tr_scaled[is_inlier==1,:]\n",
        "y_tr_not_anomalous = y_tr_scaled[is_inlier==1]\n",
        "\n",
        "print(\"Distribution after anomaly detection\")\n",
        "print(len(x_tr_not_anomalous))\n",
        "print(np.unique(y_tr_not_anomalous, return_counts=True)[1]/len(y_tr_not_anomalous))"
      ],
      "metadata": {
        "id": "SE85Mq4HCbmz"
      },
      "execution_count": null,
      "outputs": []
    },
    {
      "cell_type": "code",
      "source": [
        "# BALANCING\n",
        "n_classes = len(np.unique(y_tr))\n",
        "fig, ax = plt.subplots()\n",
        "sizes = [len(y_tr[y_tr==i]) for i in range(n_classes)]\n",
        "class_names = [chr(ord('A')+i) for i in range(n_classes)]\n",
        "\n",
        "ax.pie(sizes, labels=class_names, autopct='%1.1f%%',shadow=True,startangle=90)\n",
        "ax.axis(\"equal\")\n",
        "plt.show()\n",
        "\n",
        "sampler = RandomUnderSampler(random_state=42)\n",
        "x_tr_balanced, y_tr_balanced = sampler.fit_resample(x_tr_scaled, y_tr)\n",
        "\n",
        "print(\"Size del dataset prima del sampler: {}\".format(x_tr_scaled.shape[0]))\n",
        "print(\"Size del dataset dopo il sampler: {}\".format(x_tr_balanced.shape[0]))\n",
        "\n",
        "fig, ax = plt.subplots()\n",
        "sizes = [len(y_tr_balanced[y_tr_balanced==i]) for i in range(n_classes)]\n",
        "class_names = [chr(ord('A')+i) for i in range(n_classes)]\n",
        "\n",
        "ax.pie(sizes, labels=class_names, autopct='%1.1f%%',shadow=True,startangle=90)\n",
        "ax.axis(\"equal\")\n",
        "plt.show()"
      ],
      "metadata": {
        "id": "h5ccqvs7Cg1o"
      },
      "execution_count": null,
      "outputs": []
    }
  ]
}