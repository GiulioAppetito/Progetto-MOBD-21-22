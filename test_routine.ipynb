{
  "nbformat": 4,
  "nbformat_minor": 0,
  "metadata": {
    "colab": {
      "name": "test_routine.ipynb",
      "provenance": [],
      "collapsed_sections": [],
      "authorship_tag": "ABX9TyPPL4ZRPQ/iSWlvku87jEBG",
      "include_colab_link": true
    },
    "kernelspec": {
      "name": "python3",
      "display_name": "Python 3"
    },
    "language_info": {
      "name": "python"
    }
  },
  "cells": [
    {
      "cell_type": "markdown",
      "metadata": {
        "id": "view-in-github",
        "colab_type": "text"
      },
      "source": [
        "<a href=\"https://colab.research.google.com/github/GiulioAppetito/Progetto_MOBD_2122/blob/main/test_routine.ipynb\" target=\"_parent\"><img src=\"https://colab.research.google.com/assets/colab-badge.svg\" alt=\"Open In Colab\"/></a>"
      ]
    },
    {
      "cell_type": "code",
      "source": [
        "from google.colab import drive\n",
        "drive.mount('/content/drive')"
      ],
      "metadata": {
        "id": "EuV7lzE1AwhS"
      },
      "execution_count": null,
      "outputs": []
    },
    {
      "cell_type": "code",
      "source": [
        "%cd /content/drive/My\\ Drive/ProgettoMOBD"
      ],
      "metadata": {
        "id": "pj1mRrEoA566"
      },
      "execution_count": null,
      "outputs": []
    },
    {
      "cell_type": "code",
      "source": [
        "import sklearn\n",
        "import pandas as pd\n",
        "import numpy as np\n",
        "\n",
        "from sklearn.preprocessing import OneHotEncoder\n",
        "from sklearn.model_selection import train_test_split, GridSearchCV\n",
        "from sklearn.ensemble import GradientBoostingClassifier\n",
        "from sklearn.impute import SimpleImputer, KNNImputer\n",
        "from sklearn.preprocessing import RobustScaler\n",
        "from imblearn.under_sampling import RandomUnderSampler, ClusterCentroids\n",
        "from sklearn import tree\n",
        "from sklearn.metrics import accuracy_score, confusion_matrix, precision_score, recall_score, f1_score\n",
        "\n",
        "np.random.seed = 123456"
      ],
      "metadata": {
        "id": "Ci4dV5gsRj6X"
      },
      "execution_count": 19,
      "outputs": []
    },
    {
      "cell_type": "code",
      "source": [
        "# LETTURA TRAINING SET\n",
        "train = pd.read_csv(\"train.csv\", sep=\",\")\n",
        "print(train.shape)\n",
        "\n",
        "# QUI LETTURA DEL SUO TEST SET\n",
        "test = pd.read_csv(\"test_set.csv\", sep=\",\")\n",
        "print(test.shape)"
      ],
      "metadata": {
        "id": "vAAaTn_xC1Tg"
      },
      "execution_count": null,
      "outputs": []
    },
    {
      "cell_type": "code",
      "source": [
        "# GESTIONE VALORI MANCANTI\n",
        "\n",
        "x_test = test.iloc[:, :-1].to_numpy()\n",
        "y_test = test.iloc[:, -1].to_numpy()\n",
        "\n",
        "x_train = train.iloc[:, :-1].to_numpy()\n",
        "y_train = train.iloc[:, -1].to_numpy()\n",
        "\n",
        "#coerente con le operazioni fatte nella routine di addestramento\n",
        "imp = SimpleImputer(missing_values=np.nan, strategy = 'most_frequent')\n",
        "x_tr_notnan = imp.fit_transform(x_train)\n",
        "# la sostituzione sul test set avviene con il most_frequent calcolato sul training set\n",
        "x_ts_notnan = imp.transform(x_test)\n",
        "\n",
        "print(x_ts_notnan.shape)"
      ],
      "metadata": {
        "id": "i8TUDI3pfgrC"
      },
      "execution_count": null,
      "outputs": []
    },
    {
      "cell_type": "code",
      "source": [
        "# GESTIONE FEATURES CATEGORICHE\n",
        "\n",
        "def one_hot_encoding(df):\n",
        "  final_df = pd.concat([df,pd.get_dummies(df['F1'])],axis = 1)\n",
        "  final_df.drop('F1', axis=1, inplace=True)\n",
        "  final_df = pd.concat([final_df,pd.get_dummies(df['F3'])],axis = 1)\n",
        "  final_df.drop('F3', axis=1, inplace=True)\n",
        "  final_df = pd.concat([final_df,pd.get_dummies(df['F7'])],axis = 1)\n",
        "  final_df.drop('F7', axis=1, inplace=True)\n",
        "  final_df = pd.concat([final_df,pd.get_dummies(df['F9'])],axis = 1)\n",
        "  final_df.drop('F9', axis=1, inplace=True)\n",
        "  final_df = pd.concat([final_df,pd.get_dummies(df['F8'])],axis = 1)\n",
        "  final_df.drop('F8', axis=1, inplace=True)\n",
        "  final_df = pd.concat([final_df,pd.get_dummies(df['F5'])],axis = 1)\n",
        "  final_df.drop('F5', axis=1, inplace=True)\n",
        "  final_df = pd.concat([final_df,pd.get_dummies(df['F6'])],axis = 1)\n",
        "  final_df.drop('F6', axis=1, inplace=True)\n",
        "  final_df = pd.concat([final_df,pd.get_dummies(df['F13'])],axis = 1)\n",
        "  final_df.drop('F13', axis=1, inplace=True)\n",
        "  return  final_df"
      ],
      "metadata": {
        "id": "j4JRFoLlkVC2"
      },
      "execution_count": 12,
      "outputs": []
    },
    {
      "cell_type": "code",
      "source": [
        "# PREPROCESSING\n",
        "# coerente con quello eseguito nella fase di addestramento\n",
        "\n",
        "x_test = pd.DataFrame(x_test)\n",
        "x_test.columns=['F0','F1','F2','F3','F4','F5','F6','F7','F8','F9','F10','F11','F12','F13']\n",
        "final_df_ts = one_hot_encoding(x_test)\n",
        "\n",
        "# la align la stiamo usando perchè con get_dummies purtroppo se qualche valore che compare in uno dei due set\n",
        "# non è presente nell'altro, non verrà generata la colonna corrispondente, per cui non è detto che i due dataframe che si \n",
        "# vanno ad usare abbiano stesso insieme di colonne, potrebbe succedere la stessa cosa se si andasse ad usare un dataset \n",
        "# che non si conosce oppure in previsione del caso in cui in futuro ci siano valori di cui non si è tenuto conto\n",
        "\n",
        "x_train = pd.DataFrame(x_train)\n",
        "x_train.columns=['F0','F1','F2','F3','F4','F5','F6','F7','F8','F9','F10','F11','F12','F13']\n",
        "final_df_tr = one_hot_encoding(x_train)\n",
        "\n",
        "x_tr, x_ts = final_df_tr.align(final_df_ts, join=\"outer\", axis=1,fill_value=0)\n",
        "#print(x_tr.tail())\n",
        "#print(x_ts.tail())"
      ],
      "metadata": {
        "id": "XZDLh12PUEB3"
      },
      "execution_count": null,
      "outputs": []
    },
    {
      "cell_type": "code",
      "source": [
        "# SCALING\n",
        "print(\"Robust Scaler\")\n",
        "scaler = RobustScaler()\n",
        "x_tr_scaled = scaler.fit_transform(x_tr)\n",
        "x_ts_scaled = scaler.transform(x_ts)\n",
        "\n",
        "print(\"Media distribuzione di partenza: {}\".format(np.mean(x_ts, axis=0)))\n",
        "print(\"Media distribuzione scalata: {}\".format(np.mean(x_ts_scaled, axis=0)))\n",
        "\n",
        "print(\"Deviazione standard distribuzione di partenza: {}\".format(np.std(x_ts, axis=0)))\n",
        "print(\"Deviazione standard distribuzione scalata: {}\".format(np.std(x_ts_scaled, axis=0)))"
      ],
      "metadata": {
        "id": "onM5LJjDlMZG"
      },
      "execution_count": null,
      "outputs": []
    },
    {
      "cell_type": "code",
      "execution_count": null,
      "metadata": {
        "id": "1e8HplnU9QOm"
      },
      "outputs": [],
      "source": [
        "from joblib import load\n",
        "classifier = load('classifier.joblib')\n",
        "\n",
        "y_ts_pred = classifier.predict(x_ts_scaled)\n",
        "\n",
        "print(\"Accuracy on test set {}\\n\".format(accuracy_score(y_test, y_ts_pred)))\n",
        "print(\"F1 score on test set {}\".format(f1_score(y_test, y_ts_pred)))\n",
        "print(confusion_matrix(y_test, y_ts_pred))"
      ]
    }
  ]
}