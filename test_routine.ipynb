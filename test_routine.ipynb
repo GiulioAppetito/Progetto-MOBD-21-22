{
  "nbformat": 4,
  "nbformat_minor": 0,
  "metadata": {
    "colab": {
      "name": "test_routine.ipynb",
      "provenance": [],
      "collapsed_sections": [],
      "include_colab_link": true
    },
    "kernelspec": {
      "name": "python3",
      "display_name": "Python 3"
    },
    "language_info": {
      "name": "python"
    }
  },
  "cells": [
    {
      "cell_type": "markdown",
      "metadata": {
        "id": "view-in-github",
        "colab_type": "text"
      },
      "source": [
        "<a href=\"https://colab.research.google.com/github/GiulioAppetito/Progetto_MOBD_2122/blob/main/test_routine.ipynb\" target=\"_parent\"><img src=\"https://colab.research.google.com/assets/colab-badge.svg\" alt=\"Open In Colab\"/></a>"
      ]
    },
    {
      "cell_type": "code",
      "source": [
        "from google.colab import drive\n",
        "drive.mount('/content/drive')"
      ],
      "metadata": {
        "id": "EuV7lzE1AwhS",
        "colab": {
          "base_uri": "https://localhost:8080/"
        },
        "outputId": "14be3f88-dc1a-4054-9f3a-5cf80fc59a3b"
      },
      "execution_count": 36,
      "outputs": [
        {
          "output_type": "stream",
          "name": "stdout",
          "text": [
            "Drive already mounted at /content/drive; to attempt to forcibly remount, call drive.mount(\"/content/drive\", force_remount=True).\n"
          ]
        }
      ]
    },
    {
      "cell_type": "code",
      "source": [
        "%cd /content/drive/My\\ Drive/ProgettoMOBD"
      ],
      "metadata": {
        "id": "pj1mRrEoA566",
        "colab": {
          "base_uri": "https://localhost:8080/"
        },
        "outputId": "a615435b-a0e3-4068-d0d8-158c5f305ce5"
      },
      "execution_count": 37,
      "outputs": [
        {
          "output_type": "stream",
          "name": "stdout",
          "text": [
            "/content/drive/My Drive/ProgettoMOBD\n"
          ]
        }
      ]
    },
    {
      "cell_type": "code",
      "source": [
        "import sklearn\n",
        "import pandas as pd\n",
        "import numpy as np\n",
        "\n",
        "import dill\n",
        "import cloudpickle\n",
        "\n",
        "from sklearn.preprocessing import OneHotEncoder\n",
        "from sklearn.model_selection import train_test_split, GridSearchCV\n",
        "from sklearn.ensemble import GradientBoostingClassifier\n",
        "from sklearn.impute import SimpleImputer, KNNImputer\n",
        "from sklearn.preprocessing import RobustScaler\n",
        "from imblearn.under_sampling import RandomUnderSampler, ClusterCentroids\n",
        "from sklearn import tree\n",
        "from sklearn.pipeline import Pipeline\n",
        "from sklearn.metrics import accuracy_score, confusion_matrix, precision_score, recall_score, f1_score\n",
        "\n",
        "from joblib import load\n",
        "\n",
        "np.random.seed = 123457\n",
        "\n",
        "# FILES PER ESEGUIRE LA TEST ROUTINE\n",
        "training_set_filename = \"train.csv\"\n",
        "test_set_filename = \"test_set.csv\" \n",
        "preprocessor_filename = 'preprocessor.pkl'\n",
        "classifier_filename = 'classifier.joblib'"
      ],
      "metadata": {
        "id": "Ci4dV5gsRj6X"
      },
      "execution_count": 44,
      "outputs": []
    },
    {
      "cell_type": "code",
      "source": [
        "# LETTURA TEST SET\n",
        "test = pd.read_csv(test_set_filename, sep=\",\")\n",
        "print(test.shape)\n",
        "\n",
        "#PREPROCESSING TEST SET\n",
        "x_test = test.iloc[:, :-1].to_numpy()\n",
        "y_test = test.iloc[:, -1].to_numpy()\n",
        "\n",
        "print(x_test.shape)\n",
        "\n",
        "with open(preprocessor_filename, 'rb') as in_file:\n",
        "    preprocessor = dill.load(in_file)\n",
        "\n",
        "x_test = preprocessor.transform(x_test)\n",
        "print(x_test.shape)\n",
        "\n",
        "#CLASSIFICATORE\n",
        "classifier = load(classifier_filename)\n",
        "y_ts_pred = classifier.predict(x_test)\n",
        "\n",
        "print(\"Accuracy on test set {}\\n\".format(accuracy_score(y_test, y_ts_pred)))\n",
        "print(\"F1 score on test set {}\\n\".format(f1_score(y_test, y_ts_pred)))\n",
        "print(confusion_matrix(y_test, y_ts_pred))"
      ],
      "metadata": {
        "id": "vAAaTn_xC1Tg"
      },
      "execution_count": 44,
      "outputs": []
    }
  ]
}